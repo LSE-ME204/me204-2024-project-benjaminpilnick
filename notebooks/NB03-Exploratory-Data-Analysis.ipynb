{
 "cells": [
  {
   "cell_type": "markdown",
   "metadata": {},
   "source": [
    "# Explatory Data Analysis\n",
    "## _Tidy up Data_"
   ]
  },
  {
   "cell_type": "code",
   "execution_count": 3,
   "metadata": {},
   "outputs": [
    {
     "name": "stdout",
     "output_type": "stream",
     "text": [
      "Deploy Panel apps for free on Ploomber Cloud! Learn more: https://ploomber.io/s/signup\n"
     ]
    }
   ],
   "source": [
    "#Loading sql magic into python in order to use sql commands \n",
    "%load_ext sql\n",
    "%config SqlMagic.autocommit=True"
   ]
  },
  {
   "cell_type": "code",
   "execution_count": 188,
   "metadata": {},
   "outputs": [
    {
     "data": {
      "text/html": [
       "\n",
       "            <div id=\"SkKnyz\"></div>\n",
       "            <script type=\"text/javascript\" data-lets-plot-script=\"library\">\n",
       "                if(!window.letsPlotCallQueue) {\n",
       "                    window.letsPlotCallQueue = [];\n",
       "                }; \n",
       "                window.letsPlotCall = function(f) {\n",
       "                    window.letsPlotCallQueue.push(f);\n",
       "                };\n",
       "                (function() {\n",
       "                    var script = document.createElement(\"script\");\n",
       "                    script.type = \"text/javascript\";\n",
       "                    script.src = \"https://cdn.jsdelivr.net/gh/JetBrains/lets-plot@v4.3.3/js-package/distr/lets-plot.min.js\";\n",
       "                    script.onload = function() {\n",
       "                        window.letsPlotCall = function(f) {f();};\n",
       "                        window.letsPlotCallQueue.forEach(function(f) {f();});\n",
       "                        window.letsPlotCallQueue = [];\n",
       "                        \n",
       "                    };\n",
       "                    script.onerror = function(event) {\n",
       "                        window.letsPlotCall = function(f) {};    // noop\n",
       "                        window.letsPlotCallQueue = [];\n",
       "                        var div = document.createElement(\"div\");\n",
       "                        div.style.color = 'darkred';\n",
       "                        div.textContent = 'Error loading Lets-Plot JS';\n",
       "                        document.getElementById(\"SkKnyz\").appendChild(div);\n",
       "                    };\n",
       "                    var e = document.getElementById(\"SkKnyz\");\n",
       "                    e.appendChild(script);\n",
       "                })()\n",
       "            </script>\n",
       "            "
      ]
     },
     "metadata": {},
     "output_type": "display_data"
    },
    {
     "ename": "OSError",
     "evalue": "no library called \"cairo-2\" was found\nno library called \"cairo\" was found\nno library called \"libcairo-2\" was found\ncannot load library 'libcairo.so.2': dlopen(libcairo.so.2, 0x0002): tried: 'libcairo.so.2' (no such file), '/System/Volumes/Preboot/Cryptexes/OSlibcairo.so.2' (no such file), '/Users/benpilnick/opt/anaconda3/lib/libcairo.so.2' (no such file), '/System/Volumes/Preboot/Cryptexes/OS/Users/benpilnick/opt/anaconda3/lib/libcairo.so.2' (no such file), '/Users/benpilnick/opt/anaconda3/lib/libcairo.so.2' (no such file), '/System/Volumes/Preboot/Cryptexes/OS/Users/benpilnick/opt/anaconda3/lib/libcairo.so.2' (no such file), '/Users/benpilnick/opt/anaconda3/lib/python3.9/site-packages/../../libcairo.so.2' (no such file), '/Users/benpilnick/opt/anaconda3/lib/libcairo.so.2' (no such file), '/System/Volumes/Preboot/Cryptexes/OS/Users/benpilnick/opt/anaconda3/lib/libcairo.so.2' (no such file), '/Users/benpilnick/opt/anaconda3/bin/../lib/libcairo.so.2' (no such file), '/usr/lib/libcairo.so.2' (no such file, not in dyld cache), 'libcairo.so.2' (no such file), '/usr/local/lib/libcairo.so.2' (no such file), '/usr/lib/libcairo.so.2' (no such file, not in dyld cache).  Additionally, ctypes.util.find_library() did not manage to locate a library called 'libcairo.so.2'\ncannot load library 'libcairo.2.dylib': dlopen(libcairo.2.dylib, 0x0002): tried: 'libcairo.2.dylib' (no such file), '/System/Volumes/Preboot/Cryptexes/OSlibcairo.2.dylib' (no such file), '/Users/benpilnick/opt/anaconda3/lib/libcairo.2.dylib' (no such file), '/System/Volumes/Preboot/Cryptexes/OS/Users/benpilnick/opt/anaconda3/lib/libcairo.2.dylib' (no such file), '/Users/benpilnick/opt/anaconda3/lib/libcairo.2.dylib' (no such file), '/System/Volumes/Preboot/Cryptexes/OS/Users/benpilnick/opt/anaconda3/lib/libcairo.2.dylib' (no such file), '/Users/benpilnick/opt/anaconda3/lib/python3.9/site-packages/../../libcairo.2.dylib' (no such file), '/Users/benpilnick/opt/anaconda3/lib/libcairo.2.dylib' (no such file), '/System/Volumes/Preboot/Cryptexes/OS/Users/benpilnick/opt/anaconda3/lib/libcairo.2.dylib' (no such file), '/Users/benpilnick/opt/anaconda3/bin/../lib/libcairo.2.dylib' (no such file), '/usr/lib/libcairo.2.dylib' (no such file, not in dyld cache), 'libcairo.2.dylib' (no such file), '/usr/local/lib/libcairo.2.dylib' (no such file), '/usr/lib/libcairo.2.dylib' (no such file, not in dyld cache).  Additionally, ctypes.util.find_library() did not manage to locate a library called 'libcairo.2.dylib'\ncannot load library 'libcairo-2.dll': dlopen(libcairo-2.dll, 0x0002): tried: 'libcairo-2.dll' (no such file), '/System/Volumes/Preboot/Cryptexes/OSlibcairo-2.dll' (no such file), '/Users/benpilnick/opt/anaconda3/lib/libcairo-2.dll' (no such file), '/System/Volumes/Preboot/Cryptexes/OS/Users/benpilnick/opt/anaconda3/lib/libcairo-2.dll' (no such file), '/Users/benpilnick/opt/anaconda3/lib/libcairo-2.dll' (no such file), '/System/Volumes/Preboot/Cryptexes/OS/Users/benpilnick/opt/anaconda3/lib/libcairo-2.dll' (no such file), '/Users/benpilnick/opt/anaconda3/lib/python3.9/site-packages/../../libcairo-2.dll' (no such file), '/Users/benpilnick/opt/anaconda3/lib/libcairo-2.dll' (no such file), '/System/Volumes/Preboot/Cryptexes/OS/Users/benpilnick/opt/anaconda3/lib/libcairo-2.dll' (no such file), '/Users/benpilnick/opt/anaconda3/bin/../lib/libcairo-2.dll' (no such file), '/usr/lib/libcairo-2.dll' (no such file, not in dyld cache), 'libcairo-2.dll' (no such file), '/usr/local/lib/libcairo-2.dll' (no such file), '/usr/lib/libcairo-2.dll' (no such file, not in dyld cache).  Additionally, ctypes.util.find_library() did not manage to locate a library called 'libcairo-2.dll'",
     "output_type": "error",
     "traceback": [
      "\u001b[0;31m---------------------------------------------------------------------------\u001b[0m",
      "\u001b[0;31mOSError\u001b[0m                                   Traceback (most recent call last)",
      "Input \u001b[0;32mIn [188]\u001b[0m, in \u001b[0;36m<cell line: 5>\u001b[0;34m()\u001b[0m\n\u001b[1;32m      3\u001b[0m \u001b[38;5;28;01mfrom\u001b[39;00m \u001b[38;5;21;01mlets_plot\u001b[39;00m \u001b[38;5;28;01mimport\u001b[39;00m \u001b[38;5;241m*\u001b[39m\n\u001b[1;32m      4\u001b[0m LetsPlot\u001b[38;5;241m.\u001b[39msetup_html()\n\u001b[0;32m----> 5\u001b[0m \u001b[38;5;28;01mimport\u001b[39;00m \u001b[38;5;21;01mcairosvg\u001b[39;00m\n",
      "File \u001b[0;32m~/opt/anaconda3/lib/python3.9/site-packages/cairosvg/__init__.py:26\u001b[0m, in \u001b[0;36m<module>\u001b[0;34m\u001b[0m\n\u001b[1;32m     22\u001b[0m VERSION \u001b[38;5;241m=\u001b[39m __version__ \u001b[38;5;241m=\u001b[39m (ROOT \u001b[38;5;241m/\u001b[39m \u001b[38;5;124m'\u001b[39m\u001b[38;5;124mVERSION\u001b[39m\u001b[38;5;124m'\u001b[39m)\u001b[38;5;241m.\u001b[39mread_text()\u001b[38;5;241m.\u001b[39mstrip()\n\u001b[1;32m     25\u001b[0m \u001b[38;5;66;03m# VERSION is used in the \"url\" module imported by \"surface\"\u001b[39;00m\n\u001b[0;32m---> 26\u001b[0m \u001b[38;5;28;01mfrom\u001b[39;00m \u001b[38;5;21;01m.\u001b[39;00m \u001b[38;5;28;01mimport\u001b[39;00m surface  \u001b[38;5;66;03m# noqa isort:skip\u001b[39;00m\n\u001b[1;32m     29\u001b[0m SURFACES \u001b[38;5;241m=\u001b[39m {\n\u001b[1;32m     30\u001b[0m     \u001b[38;5;124m'\u001b[39m\u001b[38;5;124mPDF\u001b[39m\u001b[38;5;124m'\u001b[39m: surface\u001b[38;5;241m.\u001b[39mPDFSurface,\n\u001b[1;32m     31\u001b[0m     \u001b[38;5;124m'\u001b[39m\u001b[38;5;124mPNG\u001b[39m\u001b[38;5;124m'\u001b[39m: surface\u001b[38;5;241m.\u001b[39mPNGSurface,\n\u001b[0;32m   (...)\u001b[0m\n\u001b[1;32m     34\u001b[0m     \u001b[38;5;124m'\u001b[39m\u001b[38;5;124mSVG\u001b[39m\u001b[38;5;124m'\u001b[39m: surface\u001b[38;5;241m.\u001b[39mSVGSurface,\n\u001b[1;32m     35\u001b[0m }\n\u001b[1;32m     38\u001b[0m \u001b[38;5;28;01mdef\u001b[39;00m \u001b[38;5;21msvg2svg\u001b[39m(bytestring\u001b[38;5;241m=\u001b[39m\u001b[38;5;28;01mNone\u001b[39;00m, \u001b[38;5;241m*\u001b[39m, file_obj\u001b[38;5;241m=\u001b[39m\u001b[38;5;28;01mNone\u001b[39;00m, url\u001b[38;5;241m=\u001b[39m\u001b[38;5;28;01mNone\u001b[39;00m, dpi\u001b[38;5;241m=\u001b[39m\u001b[38;5;241m96\u001b[39m,\n\u001b[1;32m     39\u001b[0m             parent_width\u001b[38;5;241m=\u001b[39m\u001b[38;5;28;01mNone\u001b[39;00m, parent_height\u001b[38;5;241m=\u001b[39m\u001b[38;5;28;01mNone\u001b[39;00m, scale\u001b[38;5;241m=\u001b[39m\u001b[38;5;241m1\u001b[39m, unsafe\u001b[38;5;241m=\u001b[39m\u001b[38;5;28;01mFalse\u001b[39;00m,\n\u001b[1;32m     40\u001b[0m             background_color\u001b[38;5;241m=\u001b[39m\u001b[38;5;28;01mNone\u001b[39;00m, negate_colors\u001b[38;5;241m=\u001b[39m\u001b[38;5;28;01mFalse\u001b[39;00m, invert_images\u001b[38;5;241m=\u001b[39m\u001b[38;5;28;01mFalse\u001b[39;00m,\n\u001b[1;32m     41\u001b[0m             write_to\u001b[38;5;241m=\u001b[39m\u001b[38;5;28;01mNone\u001b[39;00m, output_width\u001b[38;5;241m=\u001b[39m\u001b[38;5;28;01mNone\u001b[39;00m, output_height\u001b[38;5;241m=\u001b[39m\u001b[38;5;28;01mNone\u001b[39;00m):\n",
      "File \u001b[0;32m~/opt/anaconda3/lib/python3.9/site-packages/cairosvg/surface.py:9\u001b[0m, in \u001b[0;36m<module>\u001b[0;34m\u001b[0m\n\u001b[1;32m      6\u001b[0m \u001b[38;5;28;01mimport\u001b[39;00m \u001b[38;5;21;01mcopy\u001b[39;00m\n\u001b[1;32m      7\u001b[0m \u001b[38;5;28;01mimport\u001b[39;00m \u001b[38;5;21;01mio\u001b[39;00m\n\u001b[0;32m----> 9\u001b[0m \u001b[38;5;28;01mimport\u001b[39;00m \u001b[38;5;21;01mcairocffi\u001b[39;00m \u001b[38;5;28;01mas\u001b[39;00m \u001b[38;5;21;01mcairo\u001b[39;00m\n\u001b[1;32m     11\u001b[0m \u001b[38;5;28;01mfrom\u001b[39;00m \u001b[38;5;21;01m.\u001b[39;00m\u001b[38;5;21;01mcolors\u001b[39;00m \u001b[38;5;28;01mimport\u001b[39;00m color, negate_color\n\u001b[1;32m     12\u001b[0m \u001b[38;5;28;01mfrom\u001b[39;00m \u001b[38;5;21;01m.\u001b[39;00m\u001b[38;5;21;01mdefs\u001b[39;00m \u001b[38;5;28;01mimport\u001b[39;00m (\n\u001b[1;32m     13\u001b[0m     apply_filter_after_painting, apply_filter_before_painting, clip_path,\n\u001b[1;32m     14\u001b[0m     filter_, gradient_or_pattern, linear_gradient, marker, mask, paint_mask,\n\u001b[1;32m     15\u001b[0m     parse_all_defs, pattern, prepare_filter, radial_gradient, use)\n",
      "File \u001b[0;32m~/opt/anaconda3/lib/python3.9/site-packages/cairocffi/__init__.py:60\u001b[0m, in \u001b[0;36m<module>\u001b[0;34m\u001b[0m\n\u001b[1;32m     55\u001b[0m     error_message \u001b[38;5;241m=\u001b[39m \u001b[38;5;124m'\u001b[39m\u001b[38;5;130;01m\\n\u001b[39;00m\u001b[38;5;124m'\u001b[39m\u001b[38;5;241m.\u001b[39mjoin(  \u001b[38;5;66;03m# pragma: no cover\u001b[39;00m\n\u001b[1;32m     56\u001b[0m         \u001b[38;5;28mstr\u001b[39m(exception) \u001b[38;5;28;01mfor\u001b[39;00m exception \u001b[38;5;129;01min\u001b[39;00m exceptions)\n\u001b[1;32m     57\u001b[0m     \u001b[38;5;28;01mraise\u001b[39;00m \u001b[38;5;167;01mOSError\u001b[39;00m(error_message)  \u001b[38;5;66;03m# pragma: no cover\u001b[39;00m\n\u001b[0;32m---> 60\u001b[0m cairo \u001b[38;5;241m=\u001b[39m \u001b[43mdlopen\u001b[49m\u001b[43m(\u001b[49m\n\u001b[1;32m     61\u001b[0m \u001b[43m    \u001b[49m\u001b[43mffi\u001b[49m\u001b[43m,\u001b[49m\u001b[43m \u001b[49m\u001b[43m(\u001b[49m\u001b[38;5;124;43m'\u001b[39;49m\u001b[38;5;124;43mcairo-2\u001b[39;49m\u001b[38;5;124;43m'\u001b[39;49m\u001b[43m,\u001b[49m\u001b[43m \u001b[49m\u001b[38;5;124;43m'\u001b[39;49m\u001b[38;5;124;43mcairo\u001b[39;49m\u001b[38;5;124;43m'\u001b[39;49m\u001b[43m,\u001b[49m\u001b[43m \u001b[49m\u001b[38;5;124;43m'\u001b[39;49m\u001b[38;5;124;43mlibcairo-2\u001b[39;49m\u001b[38;5;124;43m'\u001b[39;49m\u001b[43m)\u001b[49m\u001b[43m,\u001b[49m\n\u001b[1;32m     62\u001b[0m \u001b[43m    \u001b[49m\u001b[43m(\u001b[49m\u001b[38;5;124;43m'\u001b[39;49m\u001b[38;5;124;43mlibcairo.so.2\u001b[39;49m\u001b[38;5;124;43m'\u001b[39;49m\u001b[43m,\u001b[49m\u001b[43m \u001b[49m\u001b[38;5;124;43m'\u001b[39;49m\u001b[38;5;124;43mlibcairo.2.dylib\u001b[39;49m\u001b[38;5;124;43m'\u001b[39;49m\u001b[43m,\u001b[49m\u001b[43m \u001b[49m\u001b[38;5;124;43m'\u001b[39;49m\u001b[38;5;124;43mlibcairo-2.dll\u001b[39;49m\u001b[38;5;124;43m'\u001b[39;49m\u001b[43m)\u001b[49m\u001b[43m)\u001b[49m\n\u001b[1;32m     65\u001b[0m \u001b[38;5;28;01mclass\u001b[39;00m \u001b[38;5;21;01m_keepref\u001b[39;00m(\u001b[38;5;28mobject\u001b[39m):  \u001b[38;5;66;03m# noqa: N801\u001b[39;00m\n\u001b[1;32m     66\u001b[0m     \u001b[38;5;124;03m\"\"\"Function wrapper that keeps a reference to another object.\"\"\"\u001b[39;00m\n",
      "File \u001b[0;32m~/opt/anaconda3/lib/python3.9/site-packages/cairocffi/__init__.py:57\u001b[0m, in \u001b[0;36mdlopen\u001b[0;34m(ffi, library_names, filenames)\u001b[0m\n\u001b[1;32m     53\u001b[0m         exceptions\u001b[38;5;241m.\u001b[39mappend(exception)\n\u001b[1;32m     55\u001b[0m error_message \u001b[38;5;241m=\u001b[39m \u001b[38;5;124m'\u001b[39m\u001b[38;5;130;01m\\n\u001b[39;00m\u001b[38;5;124m'\u001b[39m\u001b[38;5;241m.\u001b[39mjoin(  \u001b[38;5;66;03m# pragma: no cover\u001b[39;00m\n\u001b[1;32m     56\u001b[0m     \u001b[38;5;28mstr\u001b[39m(exception) \u001b[38;5;28;01mfor\u001b[39;00m exception \u001b[38;5;129;01min\u001b[39;00m exceptions)\n\u001b[0;32m---> 57\u001b[0m \u001b[38;5;28;01mraise\u001b[39;00m \u001b[38;5;167;01mOSError\u001b[39;00m(error_message)\n",
      "\u001b[0;31mOSError\u001b[0m: no library called \"cairo-2\" was found\nno library called \"cairo\" was found\nno library called \"libcairo-2\" was found\ncannot load library 'libcairo.so.2': dlopen(libcairo.so.2, 0x0002): tried: 'libcairo.so.2' (no such file), '/System/Volumes/Preboot/Cryptexes/OSlibcairo.so.2' (no such file), '/Users/benpilnick/opt/anaconda3/lib/libcairo.so.2' (no such file), '/System/Volumes/Preboot/Cryptexes/OS/Users/benpilnick/opt/anaconda3/lib/libcairo.so.2' (no such file), '/Users/benpilnick/opt/anaconda3/lib/libcairo.so.2' (no such file), '/System/Volumes/Preboot/Cryptexes/OS/Users/benpilnick/opt/anaconda3/lib/libcairo.so.2' (no such file), '/Users/benpilnick/opt/anaconda3/lib/python3.9/site-packages/../../libcairo.so.2' (no such file), '/Users/benpilnick/opt/anaconda3/lib/libcairo.so.2' (no such file), '/System/Volumes/Preboot/Cryptexes/OS/Users/benpilnick/opt/anaconda3/lib/libcairo.so.2' (no such file), '/Users/benpilnick/opt/anaconda3/bin/../lib/libcairo.so.2' (no such file), '/usr/lib/libcairo.so.2' (no such file, not in dyld cache), 'libcairo.so.2' (no such file), '/usr/local/lib/libcairo.so.2' (no such file), '/usr/lib/libcairo.so.2' (no such file, not in dyld cache).  Additionally, ctypes.util.find_library() did not manage to locate a library called 'libcairo.so.2'\ncannot load library 'libcairo.2.dylib': dlopen(libcairo.2.dylib, 0x0002): tried: 'libcairo.2.dylib' (no such file), '/System/Volumes/Preboot/Cryptexes/OSlibcairo.2.dylib' (no such file), '/Users/benpilnick/opt/anaconda3/lib/libcairo.2.dylib' (no such file), '/System/Volumes/Preboot/Cryptexes/OS/Users/benpilnick/opt/anaconda3/lib/libcairo.2.dylib' (no such file), '/Users/benpilnick/opt/anaconda3/lib/libcairo.2.dylib' (no such file), '/System/Volumes/Preboot/Cryptexes/OS/Users/benpilnick/opt/anaconda3/lib/libcairo.2.dylib' (no such file), '/Users/benpilnick/opt/anaconda3/lib/python3.9/site-packages/../../libcairo.2.dylib' (no such file), '/Users/benpilnick/opt/anaconda3/lib/libcairo.2.dylib' (no such file), '/System/Volumes/Preboot/Cryptexes/OS/Users/benpilnick/opt/anaconda3/lib/libcairo.2.dylib' (no such file), '/Users/benpilnick/opt/anaconda3/bin/../lib/libcairo.2.dylib' (no such file), '/usr/lib/libcairo.2.dylib' (no such file, not in dyld cache), 'libcairo.2.dylib' (no such file), '/usr/local/lib/libcairo.2.dylib' (no such file), '/usr/lib/libcairo.2.dylib' (no such file, not in dyld cache).  Additionally, ctypes.util.find_library() did not manage to locate a library called 'libcairo.2.dylib'\ncannot load library 'libcairo-2.dll': dlopen(libcairo-2.dll, 0x0002): tried: 'libcairo-2.dll' (no such file), '/System/Volumes/Preboot/Cryptexes/OSlibcairo-2.dll' (no such file), '/Users/benpilnick/opt/anaconda3/lib/libcairo-2.dll' (no such file), '/System/Volumes/Preboot/Cryptexes/OS/Users/benpilnick/opt/anaconda3/lib/libcairo-2.dll' (no such file), '/Users/benpilnick/opt/anaconda3/lib/libcairo-2.dll' (no such file), '/System/Volumes/Preboot/Cryptexes/OS/Users/benpilnick/opt/anaconda3/lib/libcairo-2.dll' (no such file), '/Users/benpilnick/opt/anaconda3/lib/python3.9/site-packages/../../libcairo-2.dll' (no such file), '/Users/benpilnick/opt/anaconda3/lib/libcairo-2.dll' (no such file), '/System/Volumes/Preboot/Cryptexes/OS/Users/benpilnick/opt/anaconda3/lib/libcairo-2.dll' (no such file), '/Users/benpilnick/opt/anaconda3/bin/../lib/libcairo-2.dll' (no such file), '/usr/lib/libcairo-2.dll' (no such file, not in dyld cache), 'libcairo-2.dll' (no such file), '/usr/local/lib/libcairo-2.dll' (no such file), '/usr/lib/libcairo-2.dll' (no such file, not in dyld cache).  Additionally, ctypes.util.find_library() did not manage to locate a library called 'libcairo-2.dll'"
     ]
    }
   ],
   "source": [
    "# importing pandas in order to use pd commands \n",
    "import pandas as pd\n",
    "from lets_plot import *\n",
    "LetsPlot.setup_html()\n",
    "import cairosvg"
   ]
  },
  {
   "cell_type": "code",
   "execution_count": 4,
   "metadata": {},
   "outputs": [
    {
     "data": {
      "text/html": [
       "<span style=\"None\">Connecting to &#x27;playlist&#x27;</span>"
      ],
      "text/plain": [
       "Connecting to 'playlist'"
      ]
     },
     "metadata": {},
     "output_type": "display_data"
    }
   ],
   "source": [
    "#Establishing the connection to plyalist.db\n",
    "%sql sqlite:///../data/clean/playlist.db --alias playlist"
   ]
  },
  {
   "cell_type": "markdown",
   "metadata": {},
   "source": [
    "### __DataFrames__\n",
    "#### United Kingdom \n",
    "- Creating a dataframe that has the categories, playlist id, and country it belongs to which \n",
    "- Country will be united kingdom for all"
   ]
  },
  {
   "cell_type": "code",
   "execution_count": 5,
   "metadata": {
    "vscode": {
     "languageId": "sql"
    }
   },
   "outputs": [
    {
     "data": {
      "text/html": [
       "<span style=\"None\">Running query in &#x27;playlist&#x27;</span>"
      ],
      "text/plain": [
       "Running query in 'playlist'"
      ]
     },
     "metadata": {},
     "output_type": "display_data"
    }
   ],
   "source": [
    "%%sql\n",
    "\n",
    "df_uk <<\n",
    "\n",
    "-- gets all the values for United Kingdom \n",
    "SELECT sub.categories, sub.id as playlist, sub.country as country\n",
    "FROM \n",
    "    (SELECT t2.categories, t3.country, t1.id, t1.followers\n",
    "    FROM playlist_name as t1\n",
    "    INNER JOIN playlist_category as t2 \n",
    "    ON t1.id = t2.playlist_id AND t1.country_id = t2.country_id\n",
    "    INNER JOIN country as t3 \n",
    "    ON t1.country_id = t3.id) sub\n",
    "WHERE sub.country == 'United Kingdom'; \n"
   ]
  },
  {
   "cell_type": "code",
   "execution_count": null,
   "metadata": {},
   "outputs": [],
   "source": [
    "#Converting sql object to datafarme\n",
    "df_uk = df_uk.DataFrame()"
   ]
  },
  {
   "cell_type": "markdown",
   "metadata": {},
   "source": [
    "#### United States \n",
    "- Creating a dataframe that has the categories, playlist id, and country it belongs to which \n",
    "- Country will be United States for all"
   ]
  },
  {
   "cell_type": "code",
   "execution_count": 163,
   "metadata": {
    "vscode": {
     "languageId": "sql"
    }
   },
   "outputs": [
    {
     "data": {
      "text/html": [
       "<span style=\"None\">Running query in &#x27;playlist&#x27;</span>"
      ],
      "text/plain": [
       "Running query in 'playlist'"
      ]
     },
     "metadata": {},
     "output_type": "display_data"
    }
   ],
   "source": [
    "%%sql\n",
    "\n",
    "df_us <<\n",
    "--gets values for United States\n",
    "SELECT sub.categories, sub.id as playlist, sub.country as country \n",
    "FROM \n",
    "    (SELECT t2.categories, t3.country, t1.id, t1.followers\n",
    "    FROM playlist_name as t1\n",
    "    INNER JOIN playlist_category as t2 \n",
    "    ON t1.id = t2.playlist_id AND t1.country_id = t2.country_id\n",
    "    INNER JOIN country as t3 \n",
    "    ON t1.country_id = t3.id) sub\n",
    "WHERE sub.country == 'United States'; "
   ]
  },
  {
   "cell_type": "code",
   "execution_count": 164,
   "metadata": {},
   "outputs": [],
   "source": [
    "# Converting sql object to a dataframe\n",
    "df_us = df_us.DataFrame()\n",
    "\n"
   ]
  },
  {
   "cell_type": "markdown",
   "metadata": {},
   "source": [
    "#### Mexico\n",
    "- Creating a dataframe that has the categories, playlist id, and country it belongs to which \n",
    "- Country will be Mexico for all"
   ]
  },
  {
   "cell_type": "code",
   "execution_count": 15,
   "metadata": {
    "vscode": {
     "languageId": "sql"
    }
   },
   "outputs": [
    {
     "data": {
      "text/html": [
       "<span style=\"None\">Running query in &#x27;playlist&#x27;</span>"
      ],
      "text/plain": [
       "Running query in 'playlist'"
      ]
     },
     "metadata": {},
     "output_type": "display_data"
    }
   ],
   "source": [
    "%%sql\n",
    "\n",
    "df_mexico <<\n",
    "SELECT sub.categories, sub.id as playlist, sub.country as country \n",
    "FROM (SELECT t2.categories, t3.country, t1.id, t1.followers\n",
    "    FROM playlist_name as t1\n",
    "    INNER JOIN playlist_category as t2 \n",
    "    ON t1.id = t2.playlist_id AND t1.country_id = t2.country_id\n",
    "    INNER JOIN country as t3 \n",
    "ON t1.country_id = t3.id) sub\n",
    "WHERE sub.country == 'Mexico'; "
   ]
  },
  {
   "cell_type": "code",
   "execution_count": 16,
   "metadata": {},
   "outputs": [],
   "source": [
    "#Converting sql object to dataframe\n",
    "df_mexico = df_mexico.DataFrame()"
   ]
  },
  {
   "cell_type": "markdown",
   "metadata": {},
   "source": [
    "#### Average Followers \n",
    "- Gets the average followers by country_id\n"
   ]
  },
  {
   "cell_type": "code",
   "execution_count": 17,
   "metadata": {
    "vscode": {
     "languageId": "sql"
    }
   },
   "outputs": [
    {
     "data": {
      "text/html": [
       "<span style=\"None\">Running query in &#x27;playlist&#x27;</span>"
      ],
      "text/plain": [
       "Running query in 'playlist'"
      ]
     },
     "metadata": {},
     "output_type": "display_data"
    }
   ],
   "source": [
    "%%sql\n",
    "\n",
    "df_followers <<\n",
    "\n",
    "-- Getting the average of the followers for each country id\n",
    "SELECT SUM(followers)/COUNT(*) as Average, country_id\n",
    "FROM(SELECT followers, id, country_id\n",
    "    FROM playlist_name) as sub1\n",
    "GROUP BY sub1.country_id;\n"
   ]
  },
  {
   "cell_type": "code",
   "execution_count": 19,
   "metadata": {},
   "outputs": [],
   "source": [
    "#Converting sql object to dataframe\n",
    "df_followers = df_followers.DataFrame()"
   ]
  },
  {
   "cell_type": "markdown",
   "metadata": {},
   "source": [
    "#### Category Count \n",
    "- Creates a dataframe that gets the count of the categories"
   ]
  },
  {
   "cell_type": "code",
   "execution_count": 20,
   "metadata": {
    "vscode": {
     "languageId": "sql"
    }
   },
   "outputs": [
    {
     "data": {
      "text/html": [
       "<span style=\"None\">Running query in &#x27;playlist&#x27;</span>"
      ],
      "text/plain": [
       "Running query in 'playlist'"
      ]
     },
     "metadata": {},
     "output_type": "display_data"
    }
   ],
   "source": [
    "\n",
    "%%sql \n",
    "\n",
    "df_category_count <<\n",
    "\n",
    "--now we want to get the most popular playlist in the country and compare the followers \n",
    "SELECT categories, COUNT(*) AS category_count\n",
    "FROM playlist_category\n",
    "GROUP BY categories\n",
    "ORDEr BY category_count DESC;"
   ]
  },
  {
   "cell_type": "code",
   "execution_count": 21,
   "metadata": {},
   "outputs": [],
   "source": [
    "#Converts sql object to dataframe\n",
    "df_category_count = df_category_count.DataFrame()"
   ]
  },
  {
   "cell_type": "markdown",
   "metadata": {},
   "source": [
    "## *Analysis*\n",
    "\n",
    "### Creating function called plot_data_country \n",
    "- Purpuse of function is to reduce amount of code written. \n",
    "- "
   ]
  },
  {
   "cell_type": "code",
   "execution_count": 180,
   "metadata": {},
   "outputs": [],
   "source": [
    "def plot_data_country (country_name, data): \n",
    "    \n",
    "\n",
    "    df_copy = data.copy()\n",
    "\n",
    "\n",
    "    df_copy.loc[df_copy['categories'].str.contains('pop', case=False, na=False), 'categories'] = 'pop'\n",
    "    df_copy.loc[df_copy['categories'].str.contains('rap', case=False, na=False), 'categories'] = 'rap'\n",
    "\n",
    "    country = pd.DataFrame(df_copy['categories'].value_counts()).reset_index()\n",
    "\n",
    "    country = country.rename(columns={'index': 'category', 'categories':'count'})\n",
    "\n",
    "    #creates a plot\n",
    "    plot_df = country.copy()\n",
    "\n",
    "\n",
    "    plot_df = plot_df[plot_df['count'] >= 6]\n",
    "\n",
    "    #Plots the value\n",
    "    to_plot = (ggplot(data = plot_df)+ geom_bar(aes(x = 'category', y = 'count',fill = 'category'),stat = 'identity')+\n",
    "    guides(fill = 'none')+ \n",
    "    labs(title = f\"Featured Playlist of {country_name} by Genre\",\n",
    "            y = 'Count',\n",
    "            x = 'Category'\n",
    "            \n",
    "        \n",
    "    )+ \n",
    "    theme(plot_title=element_text(size=18, hjust=0.1, face = 'bold'), #hjust = 0.5 to adjust to the center of the plot \n",
    "          axis_title_x=element_text(size=20),\n",
    "          axis_title_y=element_text(size=20)\n",
    "          ))\n",
    "    \n",
    "    return to_plot"
   ]
  },
  {
   "cell_type": "code",
   "execution_count": 181,
   "metadata": {},
   "outputs": [],
   "source": [
    "df_mex = df_mexico.copy()\n",
    "\n",
    "figure_mex = plot_data_country(\"Mexico\", df_mex)\n",
    "\n",
    "ggsave(figure_mex, filename = '../../docs/figures/Mexico_Playlist.html')\n",
    "\n",
    "\n"
   ]
  },
  {
   "cell_type": "code",
   "execution_count": 194,
   "metadata": {},
   "outputs": [
    {
     "data": {
      "text/plain": [
       "'/Users/benpilnick/Documents/GitHub/ME204/me204-2024-project-benjaminpilnick/docs/figures/United_Kingdom_Playlist.html'"
      ]
     },
     "execution_count": 194,
     "metadata": {},
     "output_type": "execute_result"
    }
   ],
   "source": [
    "df_united_kingdom = df_uk.copy()\n",
    "figure_uk = plot_data_country(\"United Kingdom\", df_united_kingdom)\n",
    "\n",
    "\n",
    "ggsave(figure_uk, filename = '../../docs/figures/United_Kingdom_Playlist.html')"
   ]
  },
  {
   "cell_type": "code",
   "execution_count": 195,
   "metadata": {},
   "outputs": [
    {
     "data": {
      "text/plain": [
       "'/Users/benpilnick/Documents/GitHub/ME204/me204-2024-project-benjaminpilnick/docs/figures/United_States_Playlist.html'"
      ]
     },
     "execution_count": 195,
     "metadata": {},
     "output_type": "execute_result"
    }
   ],
   "source": [
    "df_united_states = df_us.copy()\n",
    "figure_us = plot_data_country(\"United States\", df_united_states)\n",
    "ggsave(figure_us, filename = '../../docs/figures/United_States_Playlist.html')"
   ]
  }
 ],
 "metadata": {
  "kernelspec": {
   "display_name": "base",
   "language": "python",
   "name": "python3"
  },
  "language_info": {
   "codemirror_mode": {
    "name": "ipython",
    "version": 3
   },
   "file_extension": ".py",
   "mimetype": "text/x-python",
   "name": "python",
   "nbconvert_exporter": "python",
   "pygments_lexer": "ipython3",
   "version": "3.9.12"
  }
 },
 "nbformat": 4,
 "nbformat_minor": 2
}
