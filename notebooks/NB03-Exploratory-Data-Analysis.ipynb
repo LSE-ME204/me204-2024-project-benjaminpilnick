{
 "cells": [
  {
   "cell_type": "markdown",
   "metadata": {},
   "source": [
    "# Explatory Data Analysis\n",
    "## _Tidy up Data_"
   ]
  },
  {
   "cell_type": "code",
   "execution_count": 13,
   "metadata": {},
   "outputs": [
    {
     "name": "stdout",
     "output_type": "stream",
     "text": [
      "The sql extension is already loaded. To reload it, use:\n",
      "  %reload_ext sql\n"
     ]
    }
   ],
   "source": [
    "#Loading sql magic into python in order to use sql commands \n",
    "%load_ext sql\n",
    "%config SqlMagic.autocommit=True"
   ]
  },
  {
   "cell_type": "code",
   "execution_count": 33,
   "metadata": {},
   "outputs": [
    {
     "data": {
      "text/html": [
       "\n",
       "            <div id=\"9aXTrL\"></div>\n",
       "            <script type=\"text/javascript\" data-lets-plot-script=\"library\">\n",
       "                if(!window.letsPlotCallQueue) {\n",
       "                    window.letsPlotCallQueue = [];\n",
       "                }; \n",
       "                window.letsPlotCall = function(f) {\n",
       "                    window.letsPlotCallQueue.push(f);\n",
       "                };\n",
       "                (function() {\n",
       "                    var script = document.createElement(\"script\");\n",
       "                    script.type = \"text/javascript\";\n",
       "                    script.src = \"https://cdn.jsdelivr.net/gh/JetBrains/lets-plot@v4.3.3/js-package/distr/lets-plot.min.js\";\n",
       "                    script.onload = function() {\n",
       "                        window.letsPlotCall = function(f) {f();};\n",
       "                        window.letsPlotCallQueue.forEach(function(f) {f();});\n",
       "                        window.letsPlotCallQueue = [];\n",
       "                        \n",
       "                    };\n",
       "                    script.onerror = function(event) {\n",
       "                        window.letsPlotCall = function(f) {};    // noop\n",
       "                        window.letsPlotCallQueue = [];\n",
       "                        var div = document.createElement(\"div\");\n",
       "                        div.style.color = 'darkred';\n",
       "                        div.textContent = 'Error loading Lets-Plot JS';\n",
       "                        document.getElementById(\"9aXTrL\").appendChild(div);\n",
       "                    };\n",
       "                    var e = document.getElementById(\"9aXTrL\");\n",
       "                    e.appendChild(script);\n",
       "                })()\n",
       "            </script>\n",
       "            "
      ]
     },
     "metadata": {},
     "output_type": "display_data"
    }
   ],
   "source": [
    "# importing pandas in order to use pd commands \n",
    "import pandas as pd\n",
    "\n",
    "#importing ggplot\n",
    "from lets_plot import *\n",
    "LetsPlot.setup_html()\n"
   ]
  },
  {
   "cell_type": "code",
   "execution_count": 15,
   "metadata": {},
   "outputs": [
    {
     "data": {
      "text/html": [
       "<span style=\"None\">Connecting to &#x27;playlist&#x27;</span>"
      ],
      "text/plain": [
       "Connecting to 'playlist'"
      ]
     },
     "metadata": {},
     "output_type": "display_data"
    }
   ],
   "source": [
    "#Establishing the connection to plyalist.db. Located in data clean\n",
    "%sql sqlite:///../data/clean/playlist.db --alias playlist"
   ]
  },
  {
   "cell_type": "markdown",
   "metadata": {},
   "source": [
    "### __DataFrames__\n",
    "#### United Kingdom \n",
    "- Creating a dataframe that has the categories, playlist id, and country it belongs to which \n",
    "- Country will be united kingdom for all"
   ]
  },
  {
   "cell_type": "code",
   "execution_count": 16,
   "metadata": {
    "vscode": {
     "languageId": "sql"
    }
   },
   "outputs": [
    {
     "data": {
      "text/html": [
       "<span style=\"None\">Running query in &#x27;playlist&#x27;</span>"
      ],
      "text/plain": [
       "Running query in 'playlist'"
      ]
     },
     "metadata": {},
     "output_type": "display_data"
    }
   ],
   "source": [
    "%%sql\n",
    "\n",
    "df_uk <<\n",
    "\n",
    "-- gets all the values for United Kingdom for analysis of categorie \n",
    "SELECT sub.categories, sub.id as playlist, sub.country as country\n",
    "FROM \n",
    "    (SELECT t2.categories, t3.country, t1.id, t1.followers\n",
    "    FROM playlist_name as t1\n",
    "    INNER JOIN playlist_category as t2 \n",
    "    ON t1.id = t2.playlist_id AND t1.country_id = t2.country_id\n",
    "    INNER JOIN country as t3 \n",
    "    ON t1.country_id = t3.id) sub\n",
    "WHERE sub.country == 'United Kingdom'; \n"
   ]
  },
  {
   "cell_type": "code",
   "execution_count": 17,
   "metadata": {},
   "outputs": [],
   "source": [
    "#Converting sql object to datafarme\n",
    "df_uk = df_uk.DataFrame()"
   ]
  },
  {
   "cell_type": "markdown",
   "metadata": {},
   "source": [
    "#### United States \n",
    "- Creating a dataframe that has the categories, playlist id, and country it belongs to which \n",
    "- Country will be United States for all"
   ]
  },
  {
   "cell_type": "code",
   "execution_count": 18,
   "metadata": {
    "vscode": {
     "languageId": "sql"
    }
   },
   "outputs": [
    {
     "data": {
      "text/html": [
       "<span style=\"None\">Running query in &#x27;playlist&#x27;</span>"
      ],
      "text/plain": [
       "Running query in 'playlist'"
      ]
     },
     "metadata": {},
     "output_type": "display_data"
    }
   ],
   "source": [
    "%%sql\n",
    "\n",
    "df_us <<\n",
    "--gets values for United States for category analysis\n",
    "SELECT sub.categories, sub.id as playlist, sub.country as country \n",
    "FROM \n",
    "    (SELECT t2.categories, t3.country, t1.id, t1.followers\n",
    "    FROM playlist_name as t1\n",
    "    INNER JOIN playlist_category as t2 \n",
    "    ON t1.id = t2.playlist_id AND t1.country_id = t2.country_id\n",
    "    INNER JOIN country as t3 \n",
    "    ON t1.country_id = t3.id) sub\n",
    "WHERE sub.country == 'United States'; "
   ]
  },
  {
   "cell_type": "code",
   "execution_count": 19,
   "metadata": {},
   "outputs": [],
   "source": [
    "# Converting sql object to a dataframe\n",
    "df_us = df_us.DataFrame()\n",
    "\n"
   ]
  },
  {
   "cell_type": "markdown",
   "metadata": {},
   "source": [
    "#### Mexico\n",
    "- Creating a dataframe that has the categories, playlist id, and country it belongs to which \n",
    "- Country will be Mexico for all"
   ]
  },
  {
   "cell_type": "code",
   "execution_count": 20,
   "metadata": {
    "vscode": {
     "languageId": "sql"
    }
   },
   "outputs": [
    {
     "data": {
      "text/html": [
       "<span style=\"None\">Running query in &#x27;playlist&#x27;</span>"
      ],
      "text/plain": [
       "Running query in 'playlist'"
      ]
     },
     "metadata": {},
     "output_type": "display_data"
    }
   ],
   "source": [
    "%%sql\n",
    "\n",
    "df_mexico <<\n",
    "-- gets values for United States for category analysis and dumps into df_mexico\n",
    "SELECT sub.categories, sub.id as playlist, sub.country as country \n",
    "FROM (SELECT t2.categories, t3.country, t1.id, t1.followers\n",
    "    FROM playlist_name as t1\n",
    "    INNER JOIN playlist_category as t2 \n",
    "    ON t1.id = t2.playlist_id AND t1.country_id = t2.country_id\n",
    "    INNER JOIN country as t3 \n",
    "ON t1.country_id = t3.id) sub\n",
    "WHERE sub.country == 'Mexico'; "
   ]
  },
  {
   "cell_type": "code",
   "execution_count": 21,
   "metadata": {},
   "outputs": [],
   "source": [
    "#Converting sql object to dataframe\n",
    "df_mexico = df_mexico.DataFrame()"
   ]
  },
  {
   "cell_type": "markdown",
   "metadata": {},
   "source": [
    "#### Average Followers \n",
    "- Gets the average followers by country_id\n"
   ]
  },
  {
   "cell_type": "code",
   "execution_count": 22,
   "metadata": {
    "vscode": {
     "languageId": "sql"
    }
   },
   "outputs": [
    {
     "data": {
      "text/html": [
       "<span style=\"None\">Running query in &#x27;playlist&#x27;</span>"
      ],
      "text/plain": [
       "Running query in 'playlist'"
      ]
     },
     "metadata": {},
     "output_type": "display_data"
    }
   ],
   "source": [
    "%%sql\n",
    "\n",
    "df_followers <<\n",
    "\n",
    "-- Getting the average of the followers for each country id\n",
    "SELECT SUM(followers)/COUNT(*) as Average, country_id\n",
    "FROM(SELECT followers, id, country_id\n",
    "    FROM playlist_name) as sub1\n",
    "GROUP BY sub1.country_id;\n"
   ]
  },
  {
   "cell_type": "code",
   "execution_count": 23,
   "metadata": {},
   "outputs": [],
   "source": [
    "#Converting sql object to dataframe\n",
    "df_followers = df_followers.DataFrame()"
   ]
  },
  {
   "cell_type": "markdown",
   "metadata": {},
   "source": [
    "#### Category Count \n",
    "- Creates a dataframe that gets the count of the categories"
   ]
  },
  {
   "cell_type": "code",
   "execution_count": 24,
   "metadata": {
    "vscode": {
     "languageId": "sql"
    }
   },
   "outputs": [
    {
     "data": {
      "text/html": [
       "<span style=\"None\">Running query in &#x27;playlist&#x27;</span>"
      ],
      "text/plain": [
       "Running query in 'playlist'"
      ]
     },
     "metadata": {},
     "output_type": "display_data"
    }
   ],
   "source": [
    "\n",
    "%%sql \n",
    "\n",
    "df_category_count <<\n",
    "\n",
    "--nmost popular categories in all playlists \n",
    "SELECT categories, COUNT(*) AS category_count\n",
    "FROM playlist_category\n",
    "GROUP BY categories\n",
    "ORDEr BY category_count DESC;"
   ]
  },
  {
   "cell_type": "code",
   "execution_count": 25,
   "metadata": {},
   "outputs": [],
   "source": [
    "#Converts sql object to dataframe\n",
    "df_category_count = df_category_count.DataFrame()"
   ]
  },
  {
   "cell_type": "markdown",
   "metadata": {},
   "source": [
    "## *Analysis*\n",
    "\n",
    "### Creating function called plot_data_country \n",
    "- Purpuse of function is to reduce amount of code written, produce plots of genres by their category for differnt countries. i.e. __mexico__, __united states__, and __united kingdom__."
   ]
  },
  {
   "cell_type": "code",
   "execution_count": 36,
   "metadata": {},
   "outputs": [],
   "source": [
    "\n",
    "#plotting the countries counts and categories\n",
    "def plot_data_country (country_name, data): \n",
    "    \n",
    "\n",
    "    df_copy = data.copy()\n",
    "\n",
    "\n",
    "    # if a string contains pop then it will be convertede into pop \n",
    "    df_copy.loc[df_copy['categories'].str.contains('pop', case=False, na=False), 'categories'] = 'pop'\n",
    "\n",
    "    # if a string contains rap then it will be converted to rap\n",
    "    df_copy.loc[df_copy['categories'].str.contains('rap', case=False, na=False), 'categories'] = 'rap'\n",
    "\n",
    "    # makes the value counts as a dataframe and resets the index\n",
    "    country = pd.DataFrame(df_copy['categories'].value_counts()).reset_index()\n",
    "\n",
    "    #renaming columns for analysis\n",
    "    country = country.rename(columns={'index': 'category', 'categories':'count'})\n",
    "\n",
    "    #creates a plot\n",
    "    plot_df = country.copy()\n",
    "\n",
    "    #limiting the counts for 6 times to ensure for clean plots \n",
    "    #many categories that appear once \n",
    "    plot_df = plot_df[plot_df['count'] >= 6]\n",
    "\n",
    "    #Plots the value\n",
    "    to_plot = (ggplot(data = plot_df)+ geom_bar(aes(x = 'category', y = 'count',fill = 'category'),stat = 'identity')+\n",
    "    #sets the ledgend to none\n",
    "    guides(fill = 'none')+ \n",
    "    labs(title = f\"Featured Playlist of {country_name} by Genre\", #F string that produces the title by the country_name\n",
    "            y = 'Count',\n",
    "            x = 'Category'\n",
    "            \n",
    "        \n",
    "    )+ \n",
    "    #changes the theme, so that plot_title and axis titles fit the figure. \n",
    "    theme(plot_title=element_text(size=20, hjust=0.1, face = 'bold'), #hjust = 0.5 to adjust to the center of the plot \n",
    "          axis_title_x=element_text(size=20),\n",
    "          axis_title_y=element_text(size=20)\n",
    "          ))\n",
    "    \n",
    "    return to_plot"
   ]
  },
  {
   "cell_type": "code",
   "execution_count": 27,
   "metadata": {},
   "outputs": [
    {
     "data": {
      "text/plain": [
       "'/Users/benpilnick/Documents/GitHub/ME204/me204-2024-project-benjaminpilnick/docs/figures/Mexico_Playlist.html'"
      ]
     },
     "execution_count": 27,
     "metadata": {},
     "output_type": "execute_result"
    }
   ],
   "source": [
    "\n",
    "#making a copy of mexico dataframe \n",
    "df_mex = df_mexico.copy()\n",
    "\n",
    "#calling the function\n",
    "figure_mex = plot_data_country(\"Mexico\", df_mex)\n",
    "\n",
    "#saving the figure to an html file in figures \n",
    "ggsave(figure_mex, filename = '../../docs/figures/Mexico_Playlist.html')\n",
    "\n",
    "\n"
   ]
  },
  {
   "cell_type": "code",
   "execution_count": 28,
   "metadata": {},
   "outputs": [
    {
     "data": {
      "text/html": [
       "   <div id=\"bMBkPu\"></div>\n",
       "   <script type=\"text/javascript\" data-lets-plot-script=\"plot\">\n",
       "       (function() {\n",
       "           var plotSpec={\n",
       "\"data\":{\n",
       "\"category\":[\"pop\",\"rap\",\"urbano latino\",\"reggaeton\",\"sad sierreno\",\"corrido\",\"sierreno\",\"musica mexicana\",\"corridos tumbados\",\"norteno\",\"reggaeton colombiano\",\"argentine hip hop\",\"reggaeton flow\",\"banda\",\"musica chihuahuense\",\"urbano mexicano\"],\n",
       "\"count\":[96.0,50.0,17.0,15.0,14.0,13.0,13.0,12.0,12.0,11.0,10.0,10.0,9.0,9.0,8.0,7.0]\n",
       "},\n",
       "\"mapping\":{\n",
       "},\n",
       "\"data_meta\":{\n",
       "},\n",
       "\"guides\":{\n",
       "\"fill\":\"none\"\n",
       "},\n",
       "\"ggtitle\":{\n",
       "\"text\":\"Featured Playlist of Mexico by Genre\"\n",
       "},\n",
       "\"theme\":{\n",
       "\"axis_title_x\":{\n",
       "\"size\":20.0,\n",
       "\"blank\":false\n",
       "},\n",
       "\"axis_title_y\":{\n",
       "\"size\":20.0,\n",
       "\"blank\":false\n",
       "},\n",
       "\"plot_title\":{\n",
       "\"face\":\"bold\",\n",
       "\"size\":18.0,\n",
       "\"hjust\":0.1,\n",
       "\"blank\":false\n",
       "}\n",
       "},\n",
       "\"kind\":\"plot\",\n",
       "\"scales\":[{\n",
       "\"name\":\"Count\",\n",
       "\"aesthetic\":\"y\"\n",
       "},{\n",
       "\"name\":\"Category\",\n",
       "\"aesthetic\":\"x\"\n",
       "}],\n",
       "\"layers\":[{\n",
       "\"geom\":\"bar\",\n",
       "\"stat\":\"identity\",\n",
       "\"mapping\":{\n",
       "\"x\":\"category\",\n",
       "\"y\":\"count\",\n",
       "\"fill\":\"category\"\n",
       "},\n",
       "\"data_meta\":{\n",
       "},\n",
       "\"data\":{\n",
       "}\n",
       "}],\n",
       "\"metainfo_list\":[]\n",
       "};\n",
       "           var plotContainer = document.getElementById(\"bMBkPu\");\n",
       "           window.letsPlotCall(function() {{\n",
       "               LetsPlot.buildPlotFromProcessedSpecs(plotSpec, -1, -1, plotContainer);\n",
       "           }});\n",
       "       })();\n",
       "   </script>"
      ]
     },
     "metadata": {},
     "output_type": "display_data"
    }
   ],
   "source": [
    "figure_mex.show()"
   ]
  },
  {
   "cell_type": "code",
   "execution_count": 29,
   "metadata": {},
   "outputs": [
    {
     "data": {
      "text/plain": [
       "'/Users/benpilnick/Documents/GitHub/ME204/me204-2024-project-benjaminpilnick/docs/figures/United_Kingdom_Playlist.html'"
      ]
     },
     "execution_count": 29,
     "metadata": {},
     "output_type": "execute_result"
    }
   ],
   "source": [
    "#defining a copy of the uk_dataframe\n",
    "df_united_kingdom = df_uk.copy()\n",
    "\n",
    "#Calling the function \n",
    "figure_uk = plot_data_country(\"United Kingdom\", df_united_kingdom)\n",
    "\n",
    "#saving the plot to an html file in figures\n",
    "ggsave(figure_uk, filename = '../../docs/figures/United_Kingdom_Playlist.html')"
   ]
  },
  {
   "cell_type": "code",
   "execution_count": 30,
   "metadata": {},
   "outputs": [
    {
     "data": {
      "text/html": [
       "   <div id=\"3MnVGR\"></div>\n",
       "   <script type=\"text/javascript\" data-lets-plot-script=\"plot\">\n",
       "       (function() {\n",
       "           var plotSpec={\n",
       "\"data\":{\n",
       "\"category\":[\"pop\",\"rap\",\"r&b\",\"hip hop\",\"big room\",\"edm\",\"house\",\"uk dance\"],\n",
       "\"count\":[151.0,57.0,9.0,8.0,7.0,7.0,6.0,6.0]\n",
       "},\n",
       "\"mapping\":{\n",
       "},\n",
       "\"data_meta\":{\n",
       "},\n",
       "\"guides\":{\n",
       "\"fill\":\"none\"\n",
       "},\n",
       "\"ggtitle\":{\n",
       "\"text\":\"Featured Playlist of United Kingdom by Genre\"\n",
       "},\n",
       "\"theme\":{\n",
       "\"axis_title_x\":{\n",
       "\"size\":20.0,\n",
       "\"blank\":false\n",
       "},\n",
       "\"axis_title_y\":{\n",
       "\"size\":20.0,\n",
       "\"blank\":false\n",
       "},\n",
       "\"plot_title\":{\n",
       "\"face\":\"bold\",\n",
       "\"size\":18.0,\n",
       "\"hjust\":0.1,\n",
       "\"blank\":false\n",
       "}\n",
       "},\n",
       "\"kind\":\"plot\",\n",
       "\"scales\":[{\n",
       "\"name\":\"Count\",\n",
       "\"aesthetic\":\"y\"\n",
       "},{\n",
       "\"name\":\"Category\",\n",
       "\"aesthetic\":\"x\"\n",
       "}],\n",
       "\"layers\":[{\n",
       "\"geom\":\"bar\",\n",
       "\"stat\":\"identity\",\n",
       "\"mapping\":{\n",
       "\"x\":\"category\",\n",
       "\"y\":\"count\",\n",
       "\"fill\":\"category\"\n",
       "},\n",
       "\"data_meta\":{\n",
       "},\n",
       "\"data\":{\n",
       "}\n",
       "}],\n",
       "\"metainfo_list\":[]\n",
       "};\n",
       "           var plotContainer = document.getElementById(\"3MnVGR\");\n",
       "           window.letsPlotCall(function() {{\n",
       "               LetsPlot.buildPlotFromProcessedSpecs(plotSpec, -1, -1, plotContainer);\n",
       "           }});\n",
       "       })();\n",
       "   </script>"
      ]
     },
     "metadata": {},
     "output_type": "display_data"
    }
   ],
   "source": [
    "figure_uk.show()"
   ]
  },
  {
   "cell_type": "code",
   "execution_count": 31,
   "metadata": {},
   "outputs": [
    {
     "data": {
      "text/plain": [
       "'/Users/benpilnick/Documents/GitHub/ME204/me204-2024-project-benjaminpilnick/docs/figures/United_States_Playlist.html'"
      ]
     },
     "execution_count": 31,
     "metadata": {},
     "output_type": "execute_result"
    }
   ],
   "source": [
    "#defining the united states dataframe \n",
    "df_united_states = df_us.copy()\n",
    "\n",
    "#calling the function\n",
    "figure_us = plot_data_country(\"United States\", df_united_states)\n",
    "\n",
    "#saving the figure to Figures\n",
    "ggsave(figure_us, filename = '../../docs/figures/United_States_Playlist.html')"
   ]
  },
  {
   "cell_type": "code",
   "execution_count": 32,
   "metadata": {},
   "outputs": [
    {
     "data": {
      "text/html": [
       "   <div id=\"J3vVlg\"></div>\n",
       "   <script type=\"text/javascript\" data-lets-plot-script=\"plot\">\n",
       "       (function() {\n",
       "           var plotSpec={\n",
       "\"data\":{\n",
       "\"category\":[\"pop\",\"rap\",\"r&b\",\"contemporary country\",\"hip hop\",\"alt z\",\"country\",\"bronx drill\",\"alternative r&b\",\"atl hip hop\",\"classic oklahoma country\",\"modern rock\",\"urban contemporary\",\"detroit hip hop\",\"modern country rock\",\"country road\",\"tennessee hip hop\",\"southern hip hop\",\"conscious hip hop\"],\n",
       "\"count\":[142.0,99.0,10.0,9.0,8.0,7.0,7.0,7.0,7.0,6.0,6.0,6.0,6.0,6.0,6.0,6.0,6.0,6.0,6.0]\n",
       "},\n",
       "\"mapping\":{\n",
       "},\n",
       "\"data_meta\":{\n",
       "},\n",
       "\"guides\":{\n",
       "\"fill\":\"none\"\n",
       "},\n",
       "\"ggtitle\":{\n",
       "\"text\":\"Featured Playlist of United States by Genre\"\n",
       "},\n",
       "\"theme\":{\n",
       "\"axis_title_x\":{\n",
       "\"size\":20.0,\n",
       "\"blank\":false\n",
       "},\n",
       "\"axis_title_y\":{\n",
       "\"size\":20.0,\n",
       "\"blank\":false\n",
       "},\n",
       "\"plot_title\":{\n",
       "\"face\":\"bold\",\n",
       "\"size\":18.0,\n",
       "\"hjust\":0.1,\n",
       "\"blank\":false\n",
       "}\n",
       "},\n",
       "\"kind\":\"plot\",\n",
       "\"scales\":[{\n",
       "\"name\":\"Count\",\n",
       "\"aesthetic\":\"y\"\n",
       "},{\n",
       "\"name\":\"Category\",\n",
       "\"aesthetic\":\"x\"\n",
       "}],\n",
       "\"layers\":[{\n",
       "\"geom\":\"bar\",\n",
       "\"stat\":\"identity\",\n",
       "\"mapping\":{\n",
       "\"x\":\"category\",\n",
       "\"y\":\"count\",\n",
       "\"fill\":\"category\"\n",
       "},\n",
       "\"data_meta\":{\n",
       "},\n",
       "\"data\":{\n",
       "}\n",
       "}],\n",
       "\"metainfo_list\":[]\n",
       "};\n",
       "           var plotContainer = document.getElementById(\"J3vVlg\");\n",
       "           window.letsPlotCall(function() {{\n",
       "               LetsPlot.buildPlotFromProcessedSpecs(plotSpec, -1, -1, plotContainer);\n",
       "           }});\n",
       "       })();\n",
       "   </script>"
      ]
     },
     "metadata": {},
     "output_type": "display_data"
    }
   ],
   "source": [
    "figure_us.show()"
   ]
  }
 ],
 "metadata": {
  "kernelspec": {
   "display_name": "base",
   "language": "python",
   "name": "python3"
  },
  "language_info": {
   "codemirror_mode": {
    "name": "ipython",
    "version": 3
   },
   "file_extension": ".py",
   "mimetype": "text/x-python",
   "name": "python",
   "nbconvert_exporter": "python",
   "pygments_lexer": "ipython3",
   "version": "3.9.12"
  }
 },
 "nbformat": 4,
 "nbformat_minor": 2
}
