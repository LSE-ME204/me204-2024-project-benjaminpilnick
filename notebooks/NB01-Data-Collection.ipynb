{
 "cells": [
  {
   "cell_type": "code",
   "execution_count": 102,
   "metadata": {},
   "outputs": [],
   "source": [
    "import pandas as pd \n",
    "import spotipy\n",
    "import spotipy.oauth2 as oauth2\n",
    "from spotipy.oauth2 import SpotifyClientCredentials\n",
    "import json \n",
    "import os\n",
    "from tqdm import tqdm\n",
    "import sqlite3"
   ]
  },
  {
   "cell_type": "code",
   "execution_count": null,
   "metadata": {},
   "outputs": [],
   "source": [
    "credentials_file_path = \"./credentials.json\"\n",
    "\n",
    "# open the file and load the data into a variable\n",
    "with open(credentials_file_path, \"r\") as f:\n",
    "    credentials = json.load(f)"
   ]
  },
  {
   "cell_type": "code",
   "execution_count": 2,
   "metadata": {},
   "outputs": [],
   "source": [
    "ccm=SpotifyClientCredentials(client_id= credentials['client_id'],\n",
    "    client_secret= credentials['client_secret'])\n",
    "\n",
    "spotify = spotipy.Spotify(client_credentials_manager=ccm)"
   ]
  },
  {
   "cell_type": "code",
   "execution_count": 3,
   "metadata": {},
   "outputs": [],
   "source": [
    "featured_playlists = spotify.featured_playlists()['playlists']['items']#need to get the names and then the id's of the playlist. \n",
    "names_of_playlists = [names['name'] for names in featured_playlists]\n",
    "uri_of_playlists = [uri['uri'] for uri in featured_playlists]\n",
    "\n",
    "\n",
    "#this creates a dictionary of the \n",
    "artist_genres = dict(zip(names_of_playlists, uri_of_playlists))\n",
    "list_of = list(artist_genres.values())"
   ]
  },
  {
   "cell_type": "code",
   "execution_count": 4,
   "metadata": {},
   "outputs": [],
   "source": [
    "def playlist_info(uri):\n",
    "    # Retrieves the playlist and extracts artist URIs\n",
    "    results = spotify.playlist(uri)\n",
    "\n",
    "    with open(f\"./raw_data/playlist/{results['name']}.json\", \"w\") as outfile: \n",
    "        json.dump(results, outfile)\n",
    "\n",
    "\n",
    "def load_files(folder_path):\n",
    "    json_files = [os.path.join(folder_path, f) for f in os.listdir(folder_path) if f.endswith('.json')]\n",
    "\n",
    "\n",
    "    raw_data_list = []\n",
    "    for file_path in json_files:\n",
    "        with open(file_path, 'r') as file:\n",
    "            raw_data_list.append(json.load(file))\n",
    "    return raw_data_list\n",
    "\n",
    "def get_artist_ids(data): \n",
    "        artist_ids = [track['track']['artists'][0]['uri'] for track in data['tracks']['items']]\n",
    "\n",
    "        \n",
    "        #_artist_info = [spotify.artist(artist) for artist in artist_ids]\n",
    "      \n",
    "        #with open(f\"./raw_data/genres/{_artist_info['names']}.json\", \"w\") as outfile: \n",
    "            #json.dump(_artist_info, outfile)\n",
    "\n",
    "        #this is a list containing the id's of the artists \n",
    "        return list(set(artist_ids))\n",
    "\n",
    "def get_info(artist_ids):\n",
    "     #we will have to loop through the list before calling this function so it applies to each playlist. \n",
    "     return [spotify.artist(artist)['genres'] for artist in artist_ids]\n",
    "\n",
    "\n",
    "    "
   ]
  },
  {
   "cell_type": "code",
   "execution_count": 8,
   "metadata": {},
   "outputs": [
    {
     "name": "stderr",
     "output_type": "stream",
     "text": [
      "100%|██████████| 20/20 [00:00<00:00, 20510.04it/s]\n"
     ]
    }
   ],
   "source": [
    "master_list = [playlist_info(playlist) for playlist in list_of]\n",
    "\n",
    "data_files = load_files('./raw_data/playlist')\n",
    "\n",
    "artist_ids = []\n",
    "for i in tqdm(data_files): \n",
    "    artist_ids.append(get_artist_ids(i))\n",
    "\n",
    "\n"
   ]
  },
  {
   "cell_type": "code",
   "execution_count": 9,
   "metadata": {},
   "outputs": [
    {
     "name": "stderr",
     "output_type": "stream",
     "text": [
      "100%|██████████| 20/20 [01:23<00:00,  4.17s/it]\n"
     ]
    }
   ],
   "source": [
    "list_of_genres = []\n",
    "for i in tqdm(artist_ids):\n",
    "    list_of_genres.append(get_info(i))"
   ]
  },
  {
   "cell_type": "code",
   "execution_count": null,
   "metadata": {},
   "outputs": [],
   "source": [
    "#I understand now, the raw data in the playlist category is always going to give it in alphebtical order no matter what. The index of the actual datframe is differen . "
   ]
  },
  {
   "cell_type": "code",
   "execution_count": 34,
   "metadata": {},
   "outputs": [
    {
     "data": {
      "text/plain": [
       "['color noise', 'water', 'white noise', 'rain', 'environmental', 'binaural']"
      ]
     },
     "execution_count": 34,
     "metadata": {},
     "output_type": "execute_result"
    }
   ],
   "source": [
    "#creates a list that finds the unique cateogies in the list. \n",
    "new_list = []\n",
    "for i in list_of_genres:\n",
    "    new_list.append(list(set([genre for genre_list in i for genre in genre_list])))\n",
    "\n",
    "\n",
    "\n",
    "\n",
    "\n",
    "#now it times to create the dictionary and then upload it to a sql database. \n",
    "new_list[0]"
   ]
  },
  {
   "cell_type": "code",
   "execution_count": 32,
   "metadata": {},
   "outputs": [
    {
     "data": {
      "text/plain": [
       "['Hot Hits UK',\n",
       " 'Today’s Top Hits',\n",
       " 'This Is Taylor Swift',\n",
       " 'Summer Dance Hits 2024',\n",
       " 'Sleep',\n",
       " 'Disney Hits',\n",
       " 'All Out 80s',\n",
       " 'Massive Dance Hits',\n",
       " 'White Noise 10 Hours',\n",
       " 'New Music Friday UK',\n",
       " 'Summer Bangers',\n",
       " 'This Is Eminem',\n",
       " 'Rap UK',\n",
       " 'Country Top 50',\n",
       " 'All Out 2000s',\n",
       " 'Taylor Swift | The Eras Tour Official Setlist',\n",
       " 'Massive Drum & Bass',\n",
       " 'RapCaviar',\n",
       " 'This Is Coldplay',\n",
       " 'phonk']"
      ]
     },
     "execution_count": 32,
     "metadata": {},
     "output_type": "execute_result"
    }
   ],
   "source": [
    "names_of_playlists\n"
   ]
  },
  {
   "cell_type": "code",
   "execution_count": 56,
   "metadata": {},
   "outputs": [],
   "source": [
    "\n",
    "#creates a dictionary with the name of th eplaylist and its id\n",
    "fixed_dict = {data_names['name']: data_names['uri'] for data_names in data_files}\n",
    "\n",
    "\n",
    "#getting the followers of all the playlists\n",
    "\n",
    "number_of_followers = [followers['followers']['total'] for followers in data_files]\n",
    "\n",
    "\n",
    "\n",
    "\n"
   ]
  },
  {
   "cell_type": "code",
   "execution_count": 84,
   "metadata": {},
   "outputs": [
    {
     "data": {
      "text/plain": [
       "['White Noise 10 Hours',\n",
       " 'Rap UK',\n",
       " 'Massive Dance Hits',\n",
       " 'Summer Bangers',\n",
       " 'This Is Coldplay',\n",
       " 'Country Top 50',\n",
       " 'phonk',\n",
       " 'Sleep',\n",
       " 'All Out 80s',\n",
       " 'Taylor Swift | The Eras Tour Official Setlist',\n",
       " 'New Music Friday UK',\n",
       " 'Today’s Top Hits',\n",
       " 'Disney Hits',\n",
       " 'All Out 2000s',\n",
       " 'Massive Drum & Bass',\n",
       " 'Hot Hits UK',\n",
       " 'This Is Taylor Swift',\n",
       " 'This Is Eminem',\n",
       " 'RapCaviar',\n",
       " 'Summer Dance Hits 2024']"
      ]
     },
     "execution_count": 84,
     "metadata": {},
     "output_type": "execute_result"
    }
   ],
   "source": [
    "\n",
    "\n",
    "\n",
    "\n",
    "playlist_names = list(fixed_dict.keys())\n",
    "list_of_uri = list(fixed_dict.values())\n",
    "\n",
    "\n",
    "\n",
    "playlist_category = dict(zip(playlist_names, new_list))\n",
    "\n",
    "\n",
    "\n",
    "\n",
    "\n",
    "\n",
    "playlist = list(fixed_dict.keys())\n",
    "\n",
    "playlist\n"
   ]
  },
  {
   "cell_type": "code",
   "execution_count": 94,
   "metadata": {},
   "outputs": [
    {
     "data": {
      "text/html": [
       "<div>\n",
       "<style scoped>\n",
       "    .dataframe tbody tr th:only-of-type {\n",
       "        vertical-align: middle;\n",
       "    }\n",
       "\n",
       "    .dataframe tbody tr th {\n",
       "        vertical-align: top;\n",
       "    }\n",
       "\n",
       "    .dataframe thead th {\n",
       "        text-align: right;\n",
       "    }\n",
       "</style>\n",
       "<table border=\"1\" class=\"dataframe\">\n",
       "  <thead>\n",
       "    <tr style=\"text-align: right;\">\n",
       "      <th></th>\n",
       "      <th>id</th>\n",
       "      <th>playlist_name</th>\n",
       "      <th>uri</th>\n",
       "      <th>followers</th>\n",
       "    </tr>\n",
       "  </thead>\n",
       "  <tbody>\n",
       "    <tr>\n",
       "      <th>0</th>\n",
       "      <td>1</td>\n",
       "      <td>White Noise 10 Hours</td>\n",
       "      <td>spotify:playlist:37i9dQZF1DWUZ5bk6qqDSy</td>\n",
       "      <td>1434173</td>\n",
       "    </tr>\n",
       "    <tr>\n",
       "      <th>1</th>\n",
       "      <td>2</td>\n",
       "      <td>Rap UK</td>\n",
       "      <td>spotify:playlist:37i9dQZF1DX6PKX5dyBKeq</td>\n",
       "      <td>1383911</td>\n",
       "    </tr>\n",
       "    <tr>\n",
       "      <th>2</th>\n",
       "      <td>3</td>\n",
       "      <td>Massive Dance Hits</td>\n",
       "      <td>spotify:playlist:37i9dQZF1DX5uokaTN4FTR</td>\n",
       "      <td>1400555</td>\n",
       "    </tr>\n",
       "    <tr>\n",
       "      <th>3</th>\n",
       "      <td>4</td>\n",
       "      <td>Summer Bangers</td>\n",
       "      <td>spotify:playlist:37i9dQZF1DWWevrQ6HpxHI</td>\n",
       "      <td>277696</td>\n",
       "    </tr>\n",
       "    <tr>\n",
       "      <th>4</th>\n",
       "      <td>5</td>\n",
       "      <td>This Is Coldplay</td>\n",
       "      <td>spotify:playlist:37i9dQZF1DXaQm3ZVg9Z2X</td>\n",
       "      <td>3950474</td>\n",
       "    </tr>\n",
       "    <tr>\n",
       "      <th>5</th>\n",
       "      <td>6</td>\n",
       "      <td>Country Top 50</td>\n",
       "      <td>spotify:playlist:37i9dQZF1DX7aUUBCKwo4Y</td>\n",
       "      <td>1426991</td>\n",
       "    </tr>\n",
       "    <tr>\n",
       "      <th>6</th>\n",
       "      <td>7</td>\n",
       "      <td>phonk</td>\n",
       "      <td>spotify:playlist:37i9dQZF1DWWY64wDtewQt</td>\n",
       "      <td>8588221</td>\n",
       "    </tr>\n",
       "    <tr>\n",
       "      <th>7</th>\n",
       "      <td>8</td>\n",
       "      <td>Sleep</td>\n",
       "      <td>spotify:playlist:37i9dQZF1DWZd79rJ6a7lp</td>\n",
       "      <td>5942707</td>\n",
       "    </tr>\n",
       "    <tr>\n",
       "      <th>8</th>\n",
       "      <td>9</td>\n",
       "      <td>All Out 80s</td>\n",
       "      <td>spotify:playlist:37i9dQZF1DX4UtSsGT1Sbe</td>\n",
       "      <td>11325468</td>\n",
       "    </tr>\n",
       "    <tr>\n",
       "      <th>9</th>\n",
       "      <td>10</td>\n",
       "      <td>Taylor Swift | The Eras Tour Official Setlist</td>\n",
       "      <td>spotify:playlist:37i9dQZF1DX0D996ZXujBy</td>\n",
       "      <td>491240</td>\n",
       "    </tr>\n",
       "    <tr>\n",
       "      <th>10</th>\n",
       "      <td>11</td>\n",
       "      <td>New Music Friday UK</td>\n",
       "      <td>spotify:playlist:37i9dQZF1DX4W3aJJYCDfV</td>\n",
       "      <td>855546</td>\n",
       "    </tr>\n",
       "    <tr>\n",
       "      <th>11</th>\n",
       "      <td>12</td>\n",
       "      <td>Today’s Top Hits</td>\n",
       "      <td>spotify:playlist:37i9dQZF1DXcBWIGoYBM5M</td>\n",
       "      <td>34778417</td>\n",
       "    </tr>\n",
       "    <tr>\n",
       "      <th>12</th>\n",
       "      <td>13</td>\n",
       "      <td>Disney Hits</td>\n",
       "      <td>spotify:playlist:37i9dQZF1DX8C9xQcOrE6T</td>\n",
       "      <td>5364257</td>\n",
       "    </tr>\n",
       "    <tr>\n",
       "      <th>13</th>\n",
       "      <td>14</td>\n",
       "      <td>All Out 2000s</td>\n",
       "      <td>spotify:playlist:37i9dQZF1DX4o1oenSJRJd</td>\n",
       "      <td>12334276</td>\n",
       "    </tr>\n",
       "    <tr>\n",
       "      <th>14</th>\n",
       "      <td>15</td>\n",
       "      <td>Massive Drum &amp; Bass</td>\n",
       "      <td>spotify:playlist:37i9dQZF1DX5wDmLW735Yd</td>\n",
       "      <td>1427870</td>\n",
       "    </tr>\n",
       "    <tr>\n",
       "      <th>15</th>\n",
       "      <td>16</td>\n",
       "      <td>Hot Hits UK</td>\n",
       "      <td>spotify:playlist:37i9dQZF1DWY4lFlS4Pnso</td>\n",
       "      <td>3048817</td>\n",
       "    </tr>\n",
       "    <tr>\n",
       "      <th>16</th>\n",
       "      <td>17</td>\n",
       "      <td>This Is Taylor Swift</td>\n",
       "      <td>spotify:playlist:37i9dQZF1DX5KpP2LN299J</td>\n",
       "      <td>5990976</td>\n",
       "    </tr>\n",
       "    <tr>\n",
       "      <th>17</th>\n",
       "      <td>18</td>\n",
       "      <td>This Is Eminem</td>\n",
       "      <td>spotify:playlist:37i9dQZF1DZ06evO4gTUOY</td>\n",
       "      <td>3791117</td>\n",
       "    </tr>\n",
       "    <tr>\n",
       "      <th>18</th>\n",
       "      <td>19</td>\n",
       "      <td>RapCaviar</td>\n",
       "      <td>spotify:playlist:37i9dQZF1DX0XUsuxWHRQd</td>\n",
       "      <td>15994998</td>\n",
       "    </tr>\n",
       "    <tr>\n",
       "      <th>19</th>\n",
       "      <td>20</td>\n",
       "      <td>Summer Dance Hits 2024</td>\n",
       "      <td>spotify:playlist:37i9dQZF1DWZ7eJRBxKzdO</td>\n",
       "      <td>852596</td>\n",
       "    </tr>\n",
       "  </tbody>\n",
       "</table>\n",
       "</div>"
      ],
      "text/plain": [
       "    id                                  playlist_name  \\\n",
       "0    1                           White Noise 10 Hours   \n",
       "1    2                                         Rap UK   \n",
       "2    3                             Massive Dance Hits   \n",
       "3    4                                 Summer Bangers   \n",
       "4    5                               This Is Coldplay   \n",
       "5    6                                 Country Top 50   \n",
       "6    7                                          phonk   \n",
       "7    8                                          Sleep   \n",
       "8    9                                    All Out 80s   \n",
       "9   10  Taylor Swift | The Eras Tour Official Setlist   \n",
       "10  11                            New Music Friday UK   \n",
       "11  12                               Today’s Top Hits   \n",
       "12  13                                    Disney Hits   \n",
       "13  14                                  All Out 2000s   \n",
       "14  15                            Massive Drum & Bass   \n",
       "15  16                                    Hot Hits UK   \n",
       "16  17                           This Is Taylor Swift   \n",
       "17  18                                 This Is Eminem   \n",
       "18  19                                      RapCaviar   \n",
       "19  20                         Summer Dance Hits 2024   \n",
       "\n",
       "                                        uri  followers  \n",
       "0   spotify:playlist:37i9dQZF1DWUZ5bk6qqDSy    1434173  \n",
       "1   spotify:playlist:37i9dQZF1DX6PKX5dyBKeq    1383911  \n",
       "2   spotify:playlist:37i9dQZF1DX5uokaTN4FTR    1400555  \n",
       "3   spotify:playlist:37i9dQZF1DWWevrQ6HpxHI     277696  \n",
       "4   spotify:playlist:37i9dQZF1DXaQm3ZVg9Z2X    3950474  \n",
       "5   spotify:playlist:37i9dQZF1DX7aUUBCKwo4Y    1426991  \n",
       "6   spotify:playlist:37i9dQZF1DWWY64wDtewQt    8588221  \n",
       "7   spotify:playlist:37i9dQZF1DWZd79rJ6a7lp    5942707  \n",
       "8   spotify:playlist:37i9dQZF1DX4UtSsGT1Sbe   11325468  \n",
       "9   spotify:playlist:37i9dQZF1DX0D996ZXujBy     491240  \n",
       "10  spotify:playlist:37i9dQZF1DX4W3aJJYCDfV     855546  \n",
       "11  spotify:playlist:37i9dQZF1DXcBWIGoYBM5M   34778417  \n",
       "12  spotify:playlist:37i9dQZF1DX8C9xQcOrE6T    5364257  \n",
       "13  spotify:playlist:37i9dQZF1DX4o1oenSJRJd   12334276  \n",
       "14  spotify:playlist:37i9dQZF1DX5wDmLW735Yd    1427870  \n",
       "15  spotify:playlist:37i9dQZF1DWY4lFlS4Pnso    3048817  \n",
       "16  spotify:playlist:37i9dQZF1DX5KpP2LN299J    5990976  \n",
       "17  spotify:playlist:37i9dQZF1DZ06evO4gTUOY    3791117  \n",
       "18  spotify:playlist:37i9dQZF1DX0XUsuxWHRQd   15994998  \n",
       "19  spotify:playlist:37i9dQZF1DWZ7eJRBxKzdO     852596  "
      ]
     },
     "execution_count": 94,
     "metadata": {},
     "output_type": "execute_result"
    }
   ],
   "source": [
    "#create dataframe playlist name uri and followers\n",
    "\n",
    "df_playlist = pd.DataFrame({'playlist_name': playlist, 'uri': list_of_uri, 'followers': number_of_followers}).reset_index()\n",
    "\n",
    "df_playlist = df_playlist.rename(columns={'index': 'id'})\n",
    "df_playlist['id'] = df_playlist['id'].apply(lambda x: x+1)\n",
    "df_playlist\n"
   ]
  },
  {
   "cell_type": "code",
   "execution_count": 140,
   "metadata": {},
   "outputs": [],
   "source": [
    "playlist_category = pd.DataFrame({'categories':new_list}).reset_index()\n",
    "playlist_category = playlist_category.rename(columns = {'index': 'playlist_id'})\n",
    "\n",
    "\n",
    "playlist_category['playlist_id'] = playlist_category['playlist_id'].apply(lambda x: x+1)\n",
    "\n",
    "playlist_category = playlist_category.explode('categories')"
   ]
  },
  {
   "cell_type": "code",
   "execution_count": 141,
   "metadata": {},
   "outputs": [
    {
     "data": {
      "text/html": [
       "<div>\n",
       "<style scoped>\n",
       "    .dataframe tbody tr th:only-of-type {\n",
       "        vertical-align: middle;\n",
       "    }\n",
       "\n",
       "    .dataframe tbody tr th {\n",
       "        vertical-align: top;\n",
       "    }\n",
       "\n",
       "    .dataframe thead th {\n",
       "        text-align: right;\n",
       "    }\n",
       "</style>\n",
       "<table border=\"1\" class=\"dataframe\">\n",
       "  <thead>\n",
       "    <tr style=\"text-align: right;\">\n",
       "      <th></th>\n",
       "      <th>playlist_id</th>\n",
       "      <th>categories</th>\n",
       "    </tr>\n",
       "  </thead>\n",
       "  <tbody>\n",
       "    <tr>\n",
       "      <th>0</th>\n",
       "      <td>1</td>\n",
       "      <td>color noise</td>\n",
       "    </tr>\n",
       "    <tr>\n",
       "      <th>0</th>\n",
       "      <td>1</td>\n",
       "      <td>water</td>\n",
       "    </tr>\n",
       "    <tr>\n",
       "      <th>0</th>\n",
       "      <td>1</td>\n",
       "      <td>white noise</td>\n",
       "    </tr>\n",
       "    <tr>\n",
       "      <th>0</th>\n",
       "      <td>1</td>\n",
       "      <td>rain</td>\n",
       "    </tr>\n",
       "    <tr>\n",
       "      <th>0</th>\n",
       "      <td>1</td>\n",
       "      <td>environmental</td>\n",
       "    </tr>\n",
       "    <tr>\n",
       "      <th>...</th>\n",
       "      <td>...</td>\n",
       "      <td>...</td>\n",
       "    </tr>\n",
       "    <tr>\n",
       "      <th>19</th>\n",
       "      <td>20</td>\n",
       "      <td>slap house</td>\n",
       "    </tr>\n",
       "    <tr>\n",
       "      <th>19</th>\n",
       "      <td>20</td>\n",
       "      <td>stutter house</td>\n",
       "    </tr>\n",
       "    <tr>\n",
       "      <th>19</th>\n",
       "      <td>20</td>\n",
       "      <td>neo-synthpop</td>\n",
       "    </tr>\n",
       "    <tr>\n",
       "      <th>19</th>\n",
       "      <td>20</td>\n",
       "      <td>new french touch</td>\n",
       "    </tr>\n",
       "    <tr>\n",
       "      <th>19</th>\n",
       "      <td>20</td>\n",
       "      <td>dance pop</td>\n",
       "    </tr>\n",
       "  </tbody>\n",
       "</table>\n",
       "<p>772 rows × 2 columns</p>\n",
       "</div>"
      ],
      "text/plain": [
       "    playlist_id        categories\n",
       "0             1       color noise\n",
       "0             1             water\n",
       "0             1       white noise\n",
       "0             1              rain\n",
       "0             1     environmental\n",
       "..          ...               ...\n",
       "19           20        slap house\n",
       "19           20     stutter house\n",
       "19           20      neo-synthpop\n",
       "19           20  new french touch\n",
       "19           20         dance pop\n",
       "\n",
       "[772 rows x 2 columns]"
      ]
     },
     "execution_count": 141,
     "metadata": {},
     "output_type": "execute_result"
    }
   ],
   "source": [
    "playlist_category"
   ]
  },
  {
   "cell_type": "code",
   "execution_count": 105,
   "metadata": {},
   "outputs": [],
   "source": [
    "%reload_ext sql\n",
    "%config SqlMagic.autocommit=True"
   ]
  },
  {
   "cell_type": "code",
   "execution_count": 119,
   "metadata": {},
   "outputs": [
    {
     "data": {
      "text/html": [
       "<span style=\"None\">Connecting to &#x27;playlist_uk&#x27;</span>"
      ],
      "text/plain": [
       "Connecting to 'playlist_uk'"
      ]
     },
     "metadata": {},
     "output_type": "display_data"
    }
   ],
   "source": [
    "%sql sqlite:///data/playlist_uk.db --alias playlist_uk"
   ]
  },
  {
   "cell_type": "code",
   "execution_count": 123,
   "metadata": {},
   "outputs": [],
   "source": [
    "DATA_FOLDER = os.path.join('data/')"
   ]
  },
  {
   "cell_type": "code",
   "execution_count": 124,
   "metadata": {},
   "outputs": [],
   "source": [
    "\n",
    "conn = sqlite3.connect(os.path.join(DATA_FOLDER, 'playlist_uk.db'))"
   ]
  },
  {
   "cell_type": "code",
   "execution_count": 122,
   "metadata": {},
   "outputs": [
    {
     "data": {
      "text/plain": [
       "'//data/playlist_uk.db'"
      ]
     },
     "execution_count": 122,
     "metadata": {},
     "output_type": "execute_result"
    }
   ],
   "source": [
    "#creaitng the tables\n",
    "\n",
    "\n",
    "\n",
    "\n",
    "#dataframes are already defined so simply just need to create the tables. \n",
    "\n",
    "\n"
   ]
  },
  {
   "cell_type": "code",
   "execution_count": 144,
   "metadata": {
    "vscode": {
     "languageId": "sql"
    }
   },
   "outputs": [
    {
     "data": {
      "text/html": [
       "<span style=\"None\">Running query in &#x27;playlist_uk&#x27;</span>"
      ],
      "text/plain": [
       "Running query in 'playlist_uk'"
      ]
     },
     "metadata": {},
     "output_type": "display_data"
    },
    {
     "data": {
      "text/html": [
       "<table>\n",
       "    <thead>\n",
       "        <tr>\n",
       "        </tr>\n",
       "    </thead>\n",
       "    <tbody>\n",
       "    </tbody>\n",
       "</table>"
      ],
      "text/plain": [
       "++\n",
       "||\n",
       "++\n",
       "++"
      ]
     },
     "execution_count": 144,
     "metadata": {},
     "output_type": "execute_result"
    }
   ],
   "source": [
    "%%sql\n",
    "\n",
    "    -- creating the tables in order for analysis \n",
    "\n",
    "DROP TABLE IF EXISTS playlist_name; \n",
    "\n",
    "CREATE TABLE playlist_name (\n",
    " \"id\" INTEGER PRIMARY KEY,\n",
    " \"playlist_name\" VARCHAR(50),\n",
    " \"uri\" VARCHAR(50),\n",
    " \"Followers\" INTEGER\n",
    ");\n",
    "\n",
    "DROP TABLE IF EXISTS playlist_category; \n",
    "\n",
    "CREATE TABLE playlist_category (\n",
    "\n",
    "    \"playlist_id\" INTEGER,\n",
    "    \"categories\" VARCHAR(50),\n",
    "    FOREIGN KEY(\"playlist_id\") REFERENCES \"playlist_name\" ('id')\n",
    "); "
   ]
  },
  {
   "cell_type": "code",
   "execution_count": 145,
   "metadata": {},
   "outputs": [
    {
     "data": {
      "text/plain": [
       "772"
      ]
     },
     "execution_count": 145,
     "metadata": {},
     "output_type": "execute_result"
    }
   ],
   "source": [
    "#uploading data\n",
    "df_playlist.to_sql('playlist_name', conn, if_exists='append', index=False)\n",
    "\n",
    "playlist_category.to_sql('playlist_category', conn, if_exists='append', index=False)"
   ]
  },
  {
   "cell_type": "code",
   "execution_count": 154,
   "metadata": {
    "vscode": {
     "languageId": "sql"
    }
   },
   "outputs": [
    {
     "data": {
      "text/html": [
       "<span style=\"None\">Running query in &#x27;playlist_uk&#x27;</span>"
      ],
      "text/plain": [
       "Running query in 'playlist_uk'"
      ]
     },
     "metadata": {},
     "output_type": "display_data"
    },
    {
     "data": {
      "text/html": [
       "<table>\n",
       "    <thead>\n",
       "        <tr>\n",
       "            <th>playlist_id</th>\n",
       "            <th>categories</th>\n",
       "        </tr>\n",
       "    </thead>\n",
       "    <tbody>\n",
       "        <tr>\n",
       "            <td>1</td>\n",
       "            <td>color noise</td>\n",
       "        </tr>\n",
       "        <tr>\n",
       "            <td>1</td>\n",
       "            <td>water</td>\n",
       "        </tr>\n",
       "        <tr>\n",
       "            <td>1</td>\n",
       "            <td>white noise</td>\n",
       "        </tr>\n",
       "        <tr>\n",
       "            <td>1</td>\n",
       "            <td>rain</td>\n",
       "        </tr>\n",
       "        <tr>\n",
       "            <td>1</td>\n",
       "            <td>environmental</td>\n",
       "        </tr>\n",
       "        <tr>\n",
       "            <td>1</td>\n",
       "            <td>binaural</td>\n",
       "        </tr>\n",
       "        <tr>\n",
       "            <td>2</td>\n",
       "            <td>birmingham hip hop</td>\n",
       "        </tr>\n",
       "        <tr>\n",
       "            <td>2</td>\n",
       "            <td>afroswing</td>\n",
       "        </tr>\n",
       "        <tr>\n",
       "            <td>2</td>\n",
       "            <td>conscious hip hop</td>\n",
       "        </tr>\n",
       "        <tr>\n",
       "            <td>2</td>\n",
       "            <td>bronx drill</td>\n",
       "        </tr>\n",
       "    </tbody>\n",
       "</table>\n",
       "<span style=\"font-style:italic;text-align:center;\">Truncated to <a href=\"https://jupysql.ploomber.io/en/latest/api/configuration.html#displaylimit\">displaylimit</a> of 10.</span>"
      ],
      "text/plain": [
       "+-------------+--------------------+\n",
       "| playlist_id |     categories     |\n",
       "+-------------+--------------------+\n",
       "|      1      |    color noise     |\n",
       "|      1      |       water        |\n",
       "|      1      |    white noise     |\n",
       "|      1      |        rain        |\n",
       "|      1      |   environmental    |\n",
       "|      1      |      binaural      |\n",
       "|      2      | birmingham hip hop |\n",
       "|      2      |     afroswing      |\n",
       "|      2      | conscious hip hop  |\n",
       "|      2      |    bronx drill     |\n",
       "+-------------+--------------------+\n",
       "Truncated to displaylimit of 10."
      ]
     },
     "execution_count": 154,
     "metadata": {},
     "output_type": "execute_result"
    }
   ],
   "source": [
    "\n"
   ]
  }
 ],
 "metadata": {
  "kernelspec": {
   "display_name": "base",
   "language": "python",
   "name": "python3"
  },
  "language_info": {
   "codemirror_mode": {
    "name": "ipython",
    "version": 3
   },
   "file_extension": ".py",
   "mimetype": "text/x-python",
   "name": "python",
   "nbconvert_exporter": "python",
   "pygments_lexer": "ipython3",
   "version": "3.9.12"
  }
 },
 "nbformat": 4,
 "nbformat_minor": 2
}
