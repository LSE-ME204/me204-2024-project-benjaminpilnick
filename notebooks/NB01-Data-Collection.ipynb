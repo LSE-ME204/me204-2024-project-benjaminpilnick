{
 "cells": [
  {
   "cell_type": "markdown",
   "metadata": {},
   "source": [
    "# Importing the necessary libraries\n",
    "- `!pip install pandas spotipy json tqdm sqlite3`\n",
    "- note spotipy.oauth2 as oauth2, and SpotifyClientCredentials were imported"
   ]
  },
  {
   "cell_type": "code",
   "execution_count": 52,
   "metadata": {},
   "outputs": [],
   "source": [
    "import pandas as pd \n",
    "import spotipy\n",
    "import spotipy.oauth2 as oauth2\n",
    "from spotipy.oauth2 import SpotifyClientCredentials\n",
    "import json \n",
    "import os\n",
    "from tqdm import tqdm\n",
    "import sqlite3"
   ]
  },
  {
   "cell_type": "markdown",
   "metadata": {},
   "source": [
    "# Credentials"
   ]
  },
  {
   "cell_type": "code",
   "execution_count": 62,
   "metadata": {},
   "outputs": [],
   "source": [
    "credentials_file_path = \"../credentials.json\"\n",
    "\n",
    "# open the file and load the data into a variable\n",
    "with open(credentials_file_path, \"r\") as f:\n",
    "    credentials = json.load(f)"
   ]
  },
  {
   "cell_type": "code",
   "execution_count": 63,
   "metadata": {},
   "outputs": [],
   "source": [
    "ccm=SpotifyClientCredentials(client_id= credentials['client_id'],\n",
    "    client_secret= credentials['client_secret'])\n",
    "\n",
    "spotify = spotipy.Spotify(client_credentials_manager=ccm)"
   ]
  },
  {
   "cell_type": "markdown",
   "metadata": {},
   "source": [
    "# Obtaining Data"
   ]
  },
  {
   "cell_type": "code",
   "execution_count": 68,
   "metadata": {},
   "outputs": [],
   "source": [
    "\n",
    "#calls spotify API featured_playlist()\n",
    "featured_playlists = spotify.featured_playlists()['playlists']['items']#need to get the names and then the id's of the playlist.\n",
    "\n",
    "#gets the names of the playlist \n",
    "names_of_playlists = [names['name'] for names in featured_playlists]\n",
    "\n",
    "#gets uri of playlist\n",
    "uri_of_playlists = [uri['uri'] for uri in featured_playlists]\n",
    "\n",
    "\n",
    "#this creates a dictionary of the \n",
    "artist_genres = dict(zip(names_of_playlists, uri_of_playlists))\n",
    "\n",
    "\n",
    "#Generates a list of the uri of the playlist\n",
    "list_of = list(artist_genres.values())\n",
    "\n"
   ]
  },
  {
   "cell_type": "markdown",
   "metadata": {},
   "source": [
    "## _Defining Functions_"
   ]
  },
  {
   "cell_type": "code",
   "execution_count": 66,
   "metadata": {},
   "outputs": [],
   "source": [
    "def playlist_info(uri):\n",
    "    # Retrieves the playlist and extracts artist URIs\n",
    "    results = spotify.playlist(uri)\n",
    "\n",
    "    with open(f\"../data/raw_data/mexico_playlist/{results['name']}.json\", \"w\") as outfile: \n",
    "        json.dump(results, outfile)\n",
    "   "
   ]
  },
  {
   "cell_type": "markdown",
   "metadata": {},
   "source": [
    "# Dumping Data"
   ]
  },
  {
   "cell_type": "code",
   "execution_count": 67,
   "metadata": {},
   "outputs": [],
   "source": [
    "#gets playlist info and dumps into data folder called raw_data\n",
    "master_list = [playlist_info(playlist) for playlist in list_of]"
   ]
  }
 ],
 "metadata": {
  "kernelspec": {
   "display_name": "base",
   "language": "python",
   "name": "python3"
  },
  "language_info": {
   "codemirror_mode": {
    "name": "ipython",
    "version": 3
   },
   "file_extension": ".py",
   "mimetype": "text/x-python",
   "name": "python",
   "nbconvert_exporter": "python",
   "pygments_lexer": "ipython3",
   "version": "3.9.12"
  }
 },
 "nbformat": 4,
 "nbformat_minor": 2
}
