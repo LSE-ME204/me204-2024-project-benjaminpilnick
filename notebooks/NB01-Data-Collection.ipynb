{
 "cells": [
  {
   "cell_type": "markdown",
   "metadata": {},
   "source": [
    "# Importing the necessary libraries\n",
    "- `!pip install pandas spotipy json tqdm sqlite3`\n",
    "- note spotipy.oauth2 as oauth2, and SpotifyClientCredentials were imported"
   ]
  },
  {
   "cell_type": "code",
   "execution_count": 1,
   "metadata": {},
   "outputs": [],
   "source": [
    "import pandas as pd \n",
    "import spotipy\n",
    "import spotipy.oauth2 as oauth2\n",
    "from spotipy.oauth2 import SpotifyClientCredentials\n",
    "import json \n",
    "import os\n",
    "from tqdm import tqdm\n",
    "import sqlite3"
   ]
  },
  {
   "cell_type": "markdown",
   "metadata": {},
   "source": [
    "# Credentials"
   ]
  },
  {
   "cell_type": "code",
   "execution_count": 10,
   "metadata": {},
   "outputs": [],
   "source": [
    "credentials_file_path = \"../credentials.json\"\n",
    "\n",
    "# open the file and load the data into a variable\n",
    "with open(credentials_file_path, \"r\") as f:\n",
    "    credentials = json.load(f)"
   ]
  },
  {
   "cell_type": "code",
   "execution_count": 12,
   "metadata": {},
   "outputs": [],
   "source": [
    "ccm=SpotifyClientCredentials(client_id= credentials['client_id'],\n",
    "    client_secret= credentials['client_secret'])\n",
    "\n",
    "spotify = spotipy.Spotify(client_credentials_manager=ccm)"
   ]
  },
  {
   "cell_type": "markdown",
   "metadata": {},
   "source": [
    "# Obtaining Data"
   ]
  },
  {
   "cell_type": "code",
   "execution_count": 7,
   "metadata": {},
   "outputs": [],
   "source": [
    "\n",
    "#calls spotify API featured_playlist()\n",
    "featured_playlists = spotify.featured_playlists()['playlists']['items']#need to get the names and then the id's of the playlist.\n",
    "\n",
    "#gets the names of the playlist \n",
    "names_of_playlists = [names['name'] for names in featured_playlists]\n",
    "\n",
    "#gets uri of playlist\n",
    "uri_of_playlists = [uri['uri'] for uri in featured_playlists]\n",
    "\n",
    "\n",
    "#this creates a dictionary of the \n",
    "artist_genres = dict(zip(names_of_playlists, uri_of_playlists))\n",
    "\n",
    "list_of = list(artist_genres.values())\n",
    "\n"
   ]
  },
  {
   "cell_type": "markdown",
   "metadata": {},
   "source": [
    "## _Defining Functions_"
   ]
  },
  {
   "cell_type": "code",
   "execution_count": 8,
   "metadata": {},
   "outputs": [],
   "source": [
    "def playlist_info(uri):\n",
    "    # Retrieves the playlist and extracts artist URIs\n",
    "    results = spotify.playlist(uri)\n",
    "\n",
    "    with open(f\"../raw_data/playlist/{results['name']}.json\", \"w\") as outfile: \n",
    "        json.dump(results, outfile)\n",
    "   "
   ]
  },
  {
   "cell_type": "markdown",
   "metadata": {},
   "source": [
    "# Dumping Data"
   ]
  },
  {
   "cell_type": "code",
   "execution_count": 9,
   "metadata": {},
   "outputs": [
    {
     "ename": "FileNotFoundError",
     "evalue": "[Errno 2] No such file or directory: './raw_data/playlist/Hot Hits UK.json'",
     "output_type": "error",
     "traceback": [
      "\u001b[0;31m---------------------------------------------------------------------------\u001b[0m",
      "\u001b[0;31mFileNotFoundError\u001b[0m                         Traceback (most recent call last)",
      "Input \u001b[0;32mIn [9]\u001b[0m, in \u001b[0;36m<cell line: 1>\u001b[0;34m()\u001b[0m\n\u001b[0;32m----> 1\u001b[0m master_list \u001b[38;5;241m=\u001b[39m [playlist_info(playlist) \u001b[38;5;28;01mfor\u001b[39;00m playlist \u001b[38;5;129;01min\u001b[39;00m list_of]\n\u001b[1;32m      3\u001b[0m data_files \u001b[38;5;241m=\u001b[39m load_files(\u001b[38;5;124m'\u001b[39m\u001b[38;5;124m./raw_data/playlist\u001b[39m\u001b[38;5;124m'\u001b[39m)\n\u001b[1;32m      5\u001b[0m artist_ids \u001b[38;5;241m=\u001b[39m []\n",
      "Input \u001b[0;32mIn [9]\u001b[0m, in \u001b[0;36m<listcomp>\u001b[0;34m(.0)\u001b[0m\n\u001b[0;32m----> 1\u001b[0m master_list \u001b[38;5;241m=\u001b[39m [\u001b[43mplaylist_info\u001b[49m\u001b[43m(\u001b[49m\u001b[43mplaylist\u001b[49m\u001b[43m)\u001b[49m \u001b[38;5;28;01mfor\u001b[39;00m playlist \u001b[38;5;129;01min\u001b[39;00m list_of]\n\u001b[1;32m      3\u001b[0m data_files \u001b[38;5;241m=\u001b[39m load_files(\u001b[38;5;124m'\u001b[39m\u001b[38;5;124m./raw_data/playlist\u001b[39m\u001b[38;5;124m'\u001b[39m)\n\u001b[1;32m      5\u001b[0m artist_ids \u001b[38;5;241m=\u001b[39m []\n",
      "Input \u001b[0;32mIn [8]\u001b[0m, in \u001b[0;36mplaylist_info\u001b[0;34m(uri)\u001b[0m\n\u001b[1;32m      1\u001b[0m \u001b[38;5;28;01mdef\u001b[39;00m \u001b[38;5;21mplaylist_info\u001b[39m(uri):\n\u001b[1;32m      2\u001b[0m     \u001b[38;5;66;03m# Retrieves the playlist and extracts artist URIs\u001b[39;00m\n\u001b[1;32m      3\u001b[0m     results \u001b[38;5;241m=\u001b[39m spotify\u001b[38;5;241m.\u001b[39mplaylist(uri)\n\u001b[0;32m----> 5\u001b[0m     \u001b[38;5;28;01mwith\u001b[39;00m \u001b[38;5;28;43mopen\u001b[39;49m\u001b[43m(\u001b[49m\u001b[38;5;124;43mf\u001b[39;49m\u001b[38;5;124;43m\"\u001b[39;49m\u001b[38;5;124;43m./raw_data/playlist/\u001b[39;49m\u001b[38;5;132;43;01m{\u001b[39;49;00m\u001b[43mresults\u001b[49m\u001b[43m[\u001b[49m\u001b[38;5;124;43m'\u001b[39;49m\u001b[38;5;124;43mname\u001b[39;49m\u001b[38;5;124;43m'\u001b[39;49m\u001b[43m]\u001b[49m\u001b[38;5;132;43;01m}\u001b[39;49;00m\u001b[38;5;124;43m.json\u001b[39;49m\u001b[38;5;124;43m\"\u001b[39;49m\u001b[43m,\u001b[49m\u001b[43m \u001b[49m\u001b[38;5;124;43m\"\u001b[39;49m\u001b[38;5;124;43mw\u001b[39;49m\u001b[38;5;124;43m\"\u001b[39;49m\u001b[43m)\u001b[49m \u001b[38;5;28;01mas\u001b[39;00m outfile: \n\u001b[1;32m      6\u001b[0m         json\u001b[38;5;241m.\u001b[39mdump(results, outfile)\n",
      "\u001b[0;31mFileNotFoundError\u001b[0m: [Errno 2] No such file or directory: './raw_data/playlist/Hot Hits UK.json'"
     ]
    }
   ],
   "source": [
    "#gets playlist info and dumps into data folder called raw_data\n",
    "master_list = [playlist_info(playlist) for playlist in list_of]"
   ]
  }
 ],
 "metadata": {
  "kernelspec": {
   "display_name": "base",
   "language": "python",
   "name": "python3"
  },
  "language_info": {
   "codemirror_mode": {
    "name": "ipython",
    "version": 3
   },
   "file_extension": ".py",
   "mimetype": "text/x-python",
   "name": "python",
   "nbconvert_exporter": "python",
   "pygments_lexer": "ipython3",
   "version": "3.9.12"
  }
 },
 "nbformat": 4,
 "nbformat_minor": 2
}
