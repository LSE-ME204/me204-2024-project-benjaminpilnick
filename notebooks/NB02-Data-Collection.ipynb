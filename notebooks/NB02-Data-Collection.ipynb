{
 "cells": [
  {
   "cell_type": "code",
   "execution_count": null,
   "metadata": {},
   "outputs": [],
   "source": [
    "import pandas as pd \n",
    "import spotipy\n",
    "import spotipy.oauth2 as oauth2\n",
    "from spotipy.oauth2 import SpotifyClientCredentials\n",
    "import json \n",
    "import os\n",
    "from tqdm import tqdm\n",
    "import sqlite3"
   ]
  },
  {
   "cell_type": "code",
   "execution_count": null,
   "metadata": {},
   "outputs": [],
   "source": [
    "credentials_file_path = \"./credentials.json\"\n",
    "\n",
    "# open the file and load the data into a variable\n",
    "with open(credentials_file_path, \"r\") as f:\n",
    "    credentials = json.load(f)"
   ]
  },
  {
   "cell_type": "code",
   "execution_count": null,
   "metadata": {},
   "outputs": [],
   "source": [
    "def get_info(artist_ids):\n",
    "     #we will have to loop through the list before calling this function so it applies to each playlist. \n",
    "     return [spotify.artist(artist)['genres'] for artist in artist_ids]"
   ]
  },
  {
   "cell_type": "code",
   "execution_count": null,
   "metadata": {},
   "outputs": [],
   "source": [
    "data_files = load_files('./raw_data/playlist')\n",
    "\n",
    "artist_ids = []\n",
    "for i in tqdm(data_files): \n",
    "    artist_ids.append(get_artist_ids(i))\n"
   ]
  },
  {
   "cell_type": "code",
   "execution_count": null,
   "metadata": {},
   "outputs": [],
   "source": []
  },
  {
   "cell_type": "code",
   "execution_count": null,
   "metadata": {},
   "outputs": [],
   "source": [
    "list_of_genres = []\n",
    "for i in tqdm(artist_ids):\n",
    "    list_of_genres.append(get_info(i))"
   ]
  },
  {
   "cell_type": "code",
   "execution_count": null,
   "metadata": {},
   "outputs": [],
   "source": [
    "new_list = []\n",
    "for i in list_of_genres:\n",
    "    new_list.append(list(set([genre for genre_list in i for genre in genre_list])))"
   ]
  },
  {
   "cell_type": "code",
   "execution_count": null,
   "metadata": {},
   "outputs": [],
   "source": [
    "#creates a dictionary with the name of th eplaylist and its id\n",
    "fixed_dict = {data_names['name']: data_names['uri'] for data_names in data_files}\n",
    "\n",
    "\n",
    "#getting the followers of all the playlists\n",
    "\n",
    "number_of_followers = [followers['followers']['total'] for followers in data_files]"
   ]
  },
  {
   "cell_type": "code",
   "execution_count": null,
   "metadata": {},
   "outputs": [],
   "source": [
    "\n",
    "playlist_names = list(fixed_dict.keys())\n",
    "list_of_uri = list(fixed_dict.values())\n",
    "\n",
    "\n",
    "\n",
    "playlist_category = dict(zip(playlist_names, new_list))\n",
    "\n",
    "\n",
    "\n",
    "\n",
    "\n",
    "\n",
    "playlist = list(fixed_dict.keys())\n",
    "\n",
    "playlist\n"
   ]
  },
  {
   "cell_type": "code",
   "execution_count": null,
   "metadata": {},
   "outputs": [],
   "source": [
    "#create dataframe playlist name uri and followers\n",
    "\n",
    "df_playlist = pd.DataFrame({'playlist_name': playlist, 'uri': list_of_uri, 'followers': number_of_followers}).reset_index()\n",
    "\n",
    "df_playlist = df_playlist.rename(columns={'index': 'id'})\n",
    "df_playlist['id'] = df_playlist['id'].apply(lambda x: x+1)\n",
    "df_playlist\n"
   ]
  },
  {
   "cell_type": "code",
   "execution_count": null,
   "metadata": {},
   "outputs": [],
   "source": [
    "playlist_category = pd.DataFrame({'categories':new_list}).reset_index()\n",
    "playlist_category = playlist_category.rename(columns = {'index': 'playlist_id'})\n",
    "\n",
    "\n",
    "playlist_category['playlist_id'] = playlist_category['playlist_id'].apply(lambda x: x+1)\n",
    "\n",
    "playlist_category = playlist_category.explode('categories')"
   ]
  },
  {
   "cell_type": "code",
   "execution_count": null,
   "metadata": {},
   "outputs": [],
   "source": [
    "playlist_category"
   ]
  },
  {
   "cell_type": "code",
   "execution_count": null,
   "metadata": {},
   "outputs": [],
   "source": [
    "%reload_ext sql\n",
    "%config SqlMagic.autocommit=True"
   ]
  },
  {
   "cell_type": "code",
   "execution_count": null,
   "metadata": {},
   "outputs": [],
   "source": [
    "%sql sqlite:///data/playlist_uk.db --alias playlist_uk"
   ]
  },
  {
   "cell_type": "code",
   "execution_count": null,
   "metadata": {},
   "outputs": [],
   "source": [
    "DATA_FOLDER = os.path.join('data/')"
   ]
  },
  {
   "cell_type": "code",
   "execution_count": null,
   "metadata": {},
   "outputs": [],
   "source": [
    "conn = sqlite3.connect(os.path.join(DATA_FOLDER, 'playlist_uk.db'))"
   ]
  },
  {
   "cell_type": "code",
   "execution_count": null,
   "metadata": {},
   "outputs": [],
   "source": [
    "%%sql\n",
    "\n",
    "    -- creating the tables in order for analysis \n",
    "\n",
    "DROP TABLE IF EXISTS playlist_name; \n",
    "\n",
    "CREATE TABLE playlist_name (\n",
    " \"id\" INTEGER PRIMARY KEY,\n",
    " \"playlist_name\" VARCHAR(50),\n",
    " \"uri\" VARCHAR(50),\n",
    " \"Followers\" INTEGER\n",
    ");\n",
    "\n",
    "DROP TABLE IF EXISTS playlist_category; \n",
    "\n",
    "CREATE TABLE playlist_category (\n",
    "\n",
    "    \"playlist_id\" INTEGER,\n",
    "    \"categories\" VARCHAR(50),\n",
    "    FOREIGN KEY(\"playlist_id\") REFERENCES \"playlist_name\" ('id')\n",
    "); "
   ]
  },
  {
   "cell_type": "code",
   "execution_count": null,
   "metadata": {},
   "outputs": [],
   "source": [
    "#uploading data\n",
    "df_playlist.to_sql('playlist_name', conn, if_exists='append', index=False)\n",
    "\n",
    "playlist_category.to_sql('playlist_category', conn, if_exists='append', index=False)"
   ]
  }
 ],
 "metadata": {
  "language_info": {
   "name": "python"
  }
 },
 "nbformat": 4,
 "nbformat_minor": 2
}
