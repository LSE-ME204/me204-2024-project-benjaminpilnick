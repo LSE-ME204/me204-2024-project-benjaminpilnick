{
 "cells": [
  {
   "cell_type": "markdown",
   "metadata": {},
   "source": [
    "# Importing the necessary libraries\n",
    "- `!pip install pandas spotipy json tqdm sqlite3`\n",
    "- note spotipy.oauth2 as oauth2, and SpotifyClientCredentials were imported"
   ]
  },
  {
   "cell_type": "code",
   "execution_count": 105,
   "metadata": {},
   "outputs": [],
   "source": [
    "import pandas as pd \n",
    "import spotipy\n",
    "import spotipy.oauth2 as oauth2\n",
    "from spotipy.oauth2 import SpotifyClientCredentials\n",
    "import json \n",
    "import os\n",
    "from tqdm import tqdm\n",
    "import sqlite3\n",
    "import time"
   ]
  },
  {
   "cell_type": "code",
   "execution_count": 155,
   "metadata": {},
   "outputs": [],
   "source": [
    "credentials_file_path = \"../credentials.json\"\n",
    "\n",
    "# open the file and load the data into a variable\n",
    "with open(credentials_file_path, \"r\") as f:\n",
    "    credentials = json.load(f)"
   ]
  },
  {
   "cell_type": "code",
   "execution_count": 156,
   "metadata": {},
   "outputs": [],
   "source": [
    "ccm=SpotifyClientCredentials(client_id= credentials['client_id'],\n",
    "    client_secret= credentials['client_secret'])\n",
    "\n",
    "spotify = spotipy.Spotify(client_credentials_manager=ccm)"
   ]
  },
  {
   "cell_type": "markdown",
   "metadata": {},
   "source": [
    "# Defining Functions"
   ]
  },
  {
   "cell_type": "code",
   "execution_count": 154,
   "metadata": {},
   "outputs": [],
   "source": [
    "\n",
    "#obtaining the artist ids through the data we obtain from load_files\n",
    "#returns a unique list of artist ids to be used by get_info\n",
    "def get_artist_ids(data): \n",
    "        \n",
    "        \n",
    "        artist_ids = [track['track']['artists'][0]['uri'] for track in data['tracks']['items']]\n",
    "\n",
    "        return list(set(artist_ids))\n",
    "\n",
    "\n",
    "#function gets info about the speific artist through their id and returns the genres. \n",
    "def get_info(artist_ids):\n",
    "     #we will have to loop through the list before calling this function so it applies to each playlist. \n",
    "     return [spotify.artist(artist)['genres'] for artist in artist_ids]\n",
    "\n",
    "\n",
    "#loading the json files through a given folder_path\n",
    "def load_files(folder_path):\n",
    "    json_files = [os.path.join(folder_path, f) for f in os.listdir(folder_path) if f.endswith('.json')]\n",
    "\n",
    "\n",
    "    raw_data_list = []\n",
    "    for file_path in json_files:\n",
    "        with open(file_path, 'r') as file:\n",
    "            raw_data_list.append(json.load(file))\n",
    "    return raw_data_list"
   ]
  },
  {
   "cell_type": "markdown",
   "metadata": {},
   "source": [
    "# Uploading to SQl\n",
    "## _Obtaining Genres of artists_"
   ]
  },
  {
   "cell_type": "code",
   "execution_count": 170,
   "metadata": {},
   "outputs": [],
   "source": [
    "#loading the datafiles through load_files\n",
    "data_files = load_files('../data/raw_data/us_playlist')"
   ]
  },
  {
   "cell_type": "code",
   "execution_count": 171,
   "metadata": {},
   "outputs": [
    {
     "name": "stderr",
     "output_type": "stream",
     "text": [
      "100%|██████████| 20/20 [00:00<00:00, 10765.67it/s]\n"
     ]
    }
   ],
   "source": [
    "#obtaining the artist ids in each playlist and appending it to another list \n",
    "#artist_ids = []\n",
    "#for i in tqdm(data_files): \n",
    "   # artist_ids.append(get_artist_ids(i))\n",
    "\n",
    "\n",
    "#using list comprehension instead of for loops \n",
    "artist_ids = [get_artist_ids(i) for i in tqdm(data_files)]"
   ]
  },
  {
   "cell_type": "code",
   "execution_count": 172,
   "metadata": {},
   "outputs": [
    {
     "name": "stderr",
     "output_type": "stream",
     "text": [
      "100%|██████████| 20/20 [03:00<00:00,  9.03s/it]\n"
     ]
    }
   ],
   "source": [
    "#obtains the info from the specific artist in each playist and appends to a list\n",
    "\n",
    "#list_of_genres = []\n",
    "#for i in tqdm(artist_ids):\n",
    "   # list_of_genres.append(get_info(i))\n",
    "\n",
    "#using list comprehension instead of for loops \n",
    "list_of_genres = [get_info(i) for i in tqdm(artist_ids)]"
   ]
  },
  {
   "cell_type": "code",
   "execution_count": 173,
   "metadata": {},
   "outputs": [],
   "source": [
    "#Cleaning up the list \n",
    "#categories = []\n",
    "#for i in list_of_genres:\n",
    "    #categories.append(list(set([genre for genre_list in i for genre in genre_list])))\n",
    "\n",
    "#using list comprehension instead of for loops \n",
    "categories = [list(set([genre for genre_list in i for genre in genre_list])) for i in list_of_genres]"
   ]
  },
  {
   "cell_type": "code",
   "execution_count": 174,
   "metadata": {},
   "outputs": [],
   "source": [
    "#creates a dictionary with the name of the eplaylist and its id\n",
    "fixed_dict = {data_names['name']: data_names['uri'] for data_names in data_files}\n",
    "\n",
    "#gets the uri of each playlist \n",
    "list_of_uri = list(fixed_dict.values())\n",
    "\n",
    "#gets the name of each playlist\n",
    "playlist = list(fixed_dict.keys())\n",
    "\n",
    "#getting the followers of all the playlists\n",
    "number_of_followers = [followers['followers']['total'] for followers in data_files]"
   ]
  },
  {
   "cell_type": "markdown",
   "metadata": {},
   "source": [
    "## Creating DataFrame\n",
    "### playlist dataframe "
   ]
  },
  {
   "cell_type": "code",
   "execution_count": 175,
   "metadata": {},
   "outputs": [],
   "source": [
    "#create dataframe with playlist name uri and followers\n",
    "df_playlist = pd.DataFrame({'playlist_name': playlist, 'uri': list_of_uri, 'followers': number_of_followers}).reset_index()\n",
    "\n",
    "#renames the columns \n",
    "df_playlist = df_playlist.rename(columns={'index': 'id'})\n",
    "\n",
    "#offsets the index by 1 \n",
    "df_playlist['id'] = df_playlist['id'].apply(lambda x: x+1)\n",
    "\n",
    "#adding column country id to the dataframe as c*\n",
    "df_playlist['country_id'] = ['c3'] * len(df_playlist)"
   ]
  },
  {
   "cell_type": "markdown",
   "metadata": {},
   "source": [
    "### category dataframe"
   ]
  },
  {
   "cell_type": "code",
   "execution_count": 176,
   "metadata": {},
   "outputs": [
    {
     "data": {
      "text/html": [
       "<div>\n",
       "<style scoped>\n",
       "    .dataframe tbody tr th:only-of-type {\n",
       "        vertical-align: middle;\n",
       "    }\n",
       "\n",
       "    .dataframe tbody tr th {\n",
       "        vertical-align: top;\n",
       "    }\n",
       "\n",
       "    .dataframe thead th {\n",
       "        text-align: right;\n",
       "    }\n",
       "</style>\n",
       "<table border=\"1\" class=\"dataframe\">\n",
       "  <thead>\n",
       "    <tr style=\"text-align: right;\">\n",
       "      <th></th>\n",
       "      <th>playlist_id</th>\n",
       "      <th>categories</th>\n",
       "      <th>country_id</th>\n",
       "    </tr>\n",
       "  </thead>\n",
       "  <tbody>\n",
       "    <tr>\n",
       "      <th>0</th>\n",
       "      <td>1</td>\n",
       "      <td>color noise</td>\n",
       "      <td>c3</td>\n",
       "    </tr>\n",
       "    <tr>\n",
       "      <th>0</th>\n",
       "      <td>1</td>\n",
       "      <td>water</td>\n",
       "      <td>c3</td>\n",
       "    </tr>\n",
       "    <tr>\n",
       "      <th>0</th>\n",
       "      <td>1</td>\n",
       "      <td>rain</td>\n",
       "      <td>c3</td>\n",
       "    </tr>\n",
       "    <tr>\n",
       "      <th>0</th>\n",
       "      <td>1</td>\n",
       "      <td>binaural</td>\n",
       "      <td>c3</td>\n",
       "    </tr>\n",
       "    <tr>\n",
       "      <th>0</th>\n",
       "      <td>1</td>\n",
       "      <td>environmental</td>\n",
       "      <td>c3</td>\n",
       "    </tr>\n",
       "    <tr>\n",
       "      <th>...</th>\n",
       "      <td>...</td>\n",
       "      <td>...</td>\n",
       "      <td>...</td>\n",
       "    </tr>\n",
       "    <tr>\n",
       "      <th>19</th>\n",
       "      <td>20</td>\n",
       "      <td>urban contemporary</td>\n",
       "      <td>c3</td>\n",
       "    </tr>\n",
       "    <tr>\n",
       "      <th>19</th>\n",
       "      <td>20</td>\n",
       "      <td>new jersey underground rap</td>\n",
       "      <td>c3</td>\n",
       "    </tr>\n",
       "    <tr>\n",
       "      <th>19</th>\n",
       "      <td>20</td>\n",
       "      <td>queens hip hop</td>\n",
       "      <td>c3</td>\n",
       "    </tr>\n",
       "    <tr>\n",
       "      <th>19</th>\n",
       "      <td>20</td>\n",
       "      <td>k-pop girl group</td>\n",
       "      <td>c3</td>\n",
       "    </tr>\n",
       "    <tr>\n",
       "      <th>19</th>\n",
       "      <td>20</td>\n",
       "      <td>southern hip hop</td>\n",
       "      <td>c3</td>\n",
       "    </tr>\n",
       "  </tbody>\n",
       "</table>\n",
       "<p>709 rows × 3 columns</p>\n",
       "</div>"
      ],
      "text/plain": [
       "    playlist_id                  categories country_id\n",
       "0             1                 color noise         c3\n",
       "0             1                       water         c3\n",
       "0             1                        rain         c3\n",
       "0             1                    binaural         c3\n",
       "0             1               environmental         c3\n",
       "..          ...                         ...        ...\n",
       "19           20          urban contemporary         c3\n",
       "19           20  new jersey underground rap         c3\n",
       "19           20              queens hip hop         c3\n",
       "19           20            k-pop girl group         c3\n",
       "19           20            southern hip hop         c3\n",
       "\n",
       "[709 rows x 3 columns]"
      ]
     },
     "execution_count": 176,
     "metadata": {},
     "output_type": "execute_result"
    }
   ],
   "source": [
    "#create dataframe with playlist category and id \n",
    "playlist_category = pd.DataFrame({'categories': categories}).reset_index()\n",
    "\n",
    "#renames the columns\n",
    "playlist_category = playlist_category.rename(columns = {'index': 'playlist_id'})\n",
    "\n",
    "#offsets the id column by 1 \n",
    "playlist_category['playlist_id'] = playlist_category['playlist_id'].apply(lambda x: x+1)\n",
    "\n",
    "#explodes the categories so we can upload to sql database\n",
    "playlist_category = playlist_category.explode('categories')\n",
    "\n",
    "#adding column country id to the dataframe as c3. \n",
    "playlist_category['country_id'] = ['c3'] * len(playlist_category)\n",
    "\n",
    "playlist_category"
   ]
  },
  {
   "cell_type": "code",
   "execution_count": 165,
   "metadata": {},
   "outputs": [],
   "source": [
    "country = {\n",
    "    'country': ['United Kingdom', 'United States', 'Mexico'],\n",
    "    'id': ['c1', 'c2', 'c3']\n",
    "}\n",
    "country_df = pd.DataFrame(country)"
   ]
  },
  {
   "cell_type": "code",
   "execution_count": 125,
   "metadata": {},
   "outputs": [],
   "source": [
    "%reload_ext sql\n",
    "%config SqlMagic.autocommit=True"
   ]
  },
  {
   "cell_type": "markdown",
   "metadata": {},
   "source": [
    "## _Establishing Connection to SQL_"
   ]
  },
  {
   "cell_type": "code",
   "execution_count": 127,
   "metadata": {},
   "outputs": [
    {
     "data": {
      "text/html": [
       "<span style=\"None\">Connecting to &#x27;playlist&#x27;</span>"
      ],
      "text/plain": [
       "Connecting to 'playlist'"
      ]
     },
     "metadata": {},
     "output_type": "display_data"
    }
   ],
   "source": [
    "%sql sqlite:///../data/clean/playlist.db --alias playlist"
   ]
  },
  {
   "cell_type": "code",
   "execution_count": 128,
   "metadata": {},
   "outputs": [],
   "source": [
    "DATA_FOLDER = os.path.join('../data/clean/')"
   ]
  },
  {
   "cell_type": "code",
   "execution_count": 129,
   "metadata": {},
   "outputs": [],
   "source": [
    "conn = sqlite3.connect(os.path.join(DATA_FOLDER, 'playlist.db'))"
   ]
  },
  {
   "cell_type": "markdown",
   "metadata": {},
   "source": [
    "### Creating Tables"
   ]
  },
  {
   "cell_type": "code",
   "execution_count": 130,
   "metadata": {
    "vscode": {
     "languageId": "sql"
    }
   },
   "outputs": [
    {
     "data": {
      "text/html": [
       "<span style=\"None\">Running query in &#x27;playlist&#x27;</span>"
      ],
      "text/plain": [
       "Running query in 'playlist'"
      ]
     },
     "metadata": {},
     "output_type": "display_data"
    },
    {
     "data": {
      "text/html": [
       "<table>\n",
       "    <thead>\n",
       "        <tr>\n",
       "        </tr>\n",
       "    </thead>\n",
       "    <tbody>\n",
       "    </tbody>\n",
       "</table>"
      ],
      "text/plain": [
       "++\n",
       "||\n",
       "++\n",
       "++"
      ]
     },
     "execution_count": 130,
     "metadata": {},
     "output_type": "execute_result"
    }
   ],
   "source": [
    "%%sql\n",
    "\n",
    "    -- creating the tables in order for analysis \n",
    "\n",
    "DROP TABLE IF EXISTS playlist_name; \n",
    "\n",
    "CREATE TABLE playlist_name (\n",
    "\n",
    " \"id\" INTEGER ,\n",
    " \"playlist_name\" VARCHAR(50),\n",
    " \"uri\" VARCHAR(50),\n",
    " \"Followers\" INTEGER,\n",
    " \"country_id\" VARCHAR(50),\n",
    " FOREIGN KEY(\"country_id\") REFERENCES \"country\" (\"id\")\n",
    " PRIMARY KEY(\"id\", \"country_id\")\n",
    ");\n",
    "\n",
    "DROP TABLE IF EXISTS playlist_category; \n",
    "\n",
    "CREATE TABLE playlist_category(\n",
    "\n",
    "    \"playlist_id\" INTEGER,\n",
    "    \"categories\" VARCHAR(50),\n",
    "    \"country_id\" VARCHAR(50),\n",
    "    FOREIGN KEY(\"playlist_id\") REFERENCES \"playlist_name\" ('id'),\n",
    "    FOREIGN KEY(\"country_id\") REFERENCES \"country\" (\"id\")\n",
    "); \n",
    "\n",
    "DROP TABLE IF EXISTS country; \n",
    "\n",
    "CREATE TABLE country (\n",
    "    \"id\" VARCHAR(50) PRIMARY KEY,\n",
    "    \"country\" VARCHAR(50)    \n",
    ");"
   ]
  },
  {
   "cell_type": "markdown",
   "metadata": {},
   "source": [
    "### Uploading data"
   ]
  },
  {
   "cell_type": "code",
   "execution_count": 166,
   "metadata": {},
   "outputs": [
    {
     "data": {
      "text/plain": [
       "3"
      ]
     },
     "execution_count": 166,
     "metadata": {},
     "output_type": "execute_result"
    }
   ],
   "source": [
    "#uploading data\n",
    "df_playlist.to_sql('playlist_name', conn, if_exists='append', index=False)\n",
    "\n",
    "playlist_category.to_sql('playlist_category', conn, if_exists='append', index=False)\n",
    "\n",
    "country_df.to_sql('country', conn, if_exists = 'replace', index = False)\n",
    "\n",
    "\n",
    "\n",
    "#I mighthave to create a dataframe after we ahve all the data. \n",
    "\n"
   ]
  },
  {
   "cell_type": "code",
   "execution_count": 169,
   "metadata": {},
   "outputs": [],
   "source": [
    "#closing the connection\n",
    "conn.close()"
   ]
  }
 ],
 "metadata": {
  "kernelspec": {
   "display_name": "base",
   "language": "python",
   "name": "python3"
  },
  "language_info": {
   "codemirror_mode": {
    "name": "ipython",
    "version": 3
   },
   "file_extension": ".py",
   "mimetype": "text/x-python",
   "name": "python",
   "nbconvert_exporter": "python",
   "pygments_lexer": "ipython3",
   "version": "3.9.12"
  }
 },
 "nbformat": 4,
 "nbformat_minor": 2
}
